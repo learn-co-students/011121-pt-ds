{
  "nbformat": 4,
  "nbformat_minor": 5,
  "metadata": {
    "colab": {
      "name": "RNNs and Word Embeddings.ipynb",
      "provenance": [],
      "collapsed_sections": []
    },
    "language_info": {
      "name": "python"
    },
    "kernelspec": {
      "name": "python3",
      "display_name": "Python 3"
    },
    "accelerator": "GPU"
  },
  "cells": [
    {
      "cell_type": "markdown",
      "metadata": {
        "id": "AjVB2rMrXmeG"
      },
      "source": [
        "# Recurrent Neural Networks for Text Classification\n",
        "\n",
        "## Learning Objectives:\n",
        "1. Understand how a recurrent neural network differs from a feed forward network\n",
        "2. Learn to implement RNNs in Keras\n",
        "3. Explore word embeddings for natural language processing\n",
        "4. Use NLP to classify documents using word embeddings\n",
        "\n",
        "What is a Recurrent Neural Network?\n",
        "\n",
        "![RNN Image](https://www.researchgate.net/profile/Ali-Daud/publication/330920746/figure/fig2/AS:741304577318912@1553752192108/Folded-and-unfolded-regular-recurrent-neural-networks-with-single-hidden-recurrent-layer.png)\n",
        "\n",
        "Source: https://www.researchgate.net/figure/Recurrent-neural-networks-structure_fig4_326884617\n",
        "\n",
        "In a nutshell, an RNN takes in X<sub>t</sub> and outputs 2 things:  \n",
        "\n",
        "1. y<sub>t</sub> The output.\n",
        "2. W<sub>t</sub> a value that is passed back into the layer and combined with X<sub>t+1</sub> to produce:\n",
        "  1. y<sub>t+t</sub>\n",
        "  2. W<sub>t+1</sub>\n",
        "\n",
        "...and so on until the end of the sequence of the input.\n",
        "\n",
        "It is a recurring process that acts on each feature of an input **In Sequence**.\n",
        "\n",
        "The W value allows the model to pass information from previous X<sub>t-1</sub> inputs to affect how the model processes the X<sub>t<sub> input.\n",
        "\n",
        "You can think of this as a single node that is calling itself over and over (most accurate) or as a series of identical nodes being called in sequence (easier, but less accurate conceptualization).\n",
        "\n",
        "The values passed to the next layer in the model could consist of all of the Y values or just the final output of node after processing all of the inputs.  This is a hyperparameter you can tune in your model development.  Y output sequences can also make up final model outputs where a full sequence is desired, not just a classification.  Translation models would be an example of this impelementation.  Forecasting a time series would be another.\n",
        "\n",
        "There are many flavors of RNNs and what sets them apart is how the W is formed and what information is passed between recurrences.  \n",
        "\n",
        "*Note* Just a like a densely connected layer, information is potentially passed through multiple of these recurring nodes in parallel for each layer in the model.\n",
        "\n",
        "![multi-node RNN](https://gblobscdn.gitbook.com/assets%2F-LvBP1svpACTB1R1x_U4%2F-LwEQnQw8wHRB6_2zYtG%2F-LwEZT8zd07mLDuaQZwy%2Fimage.png?alt=media&token=93a3c3e2-e32b-4fec-baf5-5e6b092920c4)\n",
        "\n",
        "Source: https://docs.paperspace.com/machine-learning/wiki/recurrent-neural-network-rnn\n",
        "\n",
        "# Why RNNs?\n",
        "\n",
        "While a feed forward network of dense layers processes each feature independently, an RNN treats them as a sequence in which the order of features is important.  This makes it ideal for:\n",
        "\n",
        "1. Time series data\n",
        "2. Audio data\n",
        "3. Natural language\n",
        "4. Anything else where the order of features carries important information.\n",
        "\n",
        "# Memory Cells:\n",
        "\n",
        "LSTMs, or Long-Short Term Memory RNNS and GRUs, Gated Recurrent Units, pass an additional value with the W, a memory cell.  While the W is fully dependent on the X and the previous W<sub>t-1</sub> values, the memory cell has potentially persistent values through multiple loops.  This allows the model have a more persistent memory of inputs from many steps previous to X<sub>t</sub>.  \n",
        "\n",
        "For example, a GRU might learn to remember the tense of a sentence or the gender of a character.\n",
        "\n",
        "![RNNs, LSTMs, and GRUs](https://slidetodoc.com/presentation_image_h/8a65d4524f55935cb441b783479395ed/image-33.jpg)\n",
        "\n",
        "Source: https://slidetodoc.com/recurrent-neural-networks-deeplearning-ai-gated-recurrent-unit/\n",
        "\n",
        "# What are the trainable Parameters:\n",
        "\n",
        "The trainable parameters and activation functions in an RNN are the various weights and functions are inside each individual parallel node.  There are, potentially, more than one weight depending on the flavor of RNN.  However, the same weights are used for each feature in the sequence for a given node.\n",
        "\n",
        "This is different than a dense node where each feature has a separate weight.  One potential benefit of this is that certain configurations of RNNs can process **variable** length inputs, which feed forward networks cannot.\n",
        "\n",
        "#Further Reading\n",
        "\n",
        "Here is a wonderful article by Michael Phi with animations that does a great job explaining further:  https://towardsdatascience.com/illustrated-guide-to-lstms-and-gru-s-a-step-by-step-explanation-44e9eb85bf21"
      ],
      "id": "AjVB2rMrXmeG"
    },
    {
      "cell_type": "markdown",
      "metadata": {
        "id": "OMsbEp8ujC4T"
      },
      "source": [
        "# LSTMs in Keras\n",
        "\n",
        "Keras has a pretty simple implementation of RNN layers.  Below I will demonstrate how to create an LSTM model."
      ],
      "id": "OMsbEp8ujC4T"
    },
    {
      "cell_type": "code",
      "metadata": {
        "id": "PK5WW8xPjTc8"
      },
      "source": [
        "import pandas as pd\n",
        "import numpy as np\n",
        "import matplotlib.pyplot as plt\n",
        "import seaborn as sns\n",
        "\n",
        "import tensorflow as tf\n",
        "from tensorflow.keras import regularizers, optimizers\n",
        "from tensorflow.keras.layers.experimental.preprocessing import TextVectorization\n",
        "from tensorflow.keras.layers import Embedding, Dense, Dropout, InputLayer, LSTM, \\\n",
        "Flatten, GlobalMaxPool1D\n",
        "from tensorflow.keras import optimizers\n",
        "from tensorflow.keras.models import Sequential\n",
        "from tensorflow.keras.utils import to_categorical\n",
        "from tensorflow.keras.initializers import Constant\n",
        "\n",
        "from nltk.corpus import stopwords\n",
        "from string import punctuation\n",
        "\n",
        "from sklearn.model_selection import train_test_split\n",
        "from sklearn.preprocessing import LabelBinarizer, LabelEncoder\n",
        "from sklearn.metrics import confusion_matrix"
      ],
      "id": "PK5WW8xPjTc8",
      "execution_count": 122,
      "outputs": []
    },
    {
      "cell_type": "code",
      "metadata": {
        "id": "BDmpmXzOTJqf"
      },
      "source": [
        "def confusion_plot(y_true, y_pred, labels=None):\n",
        "  conf = confusion_matrix(y_true, y_pred, normalize='true')\n",
        "  ax = sns.heatmap(conf, annot=True, xticklabels=labels, yticklabels=labels,\n",
        "                   cmap=\"Greens\" )\n",
        "  return ax"
      ],
      "id": "BDmpmXzOTJqf",
      "execution_count": 213,
      "outputs": []
    },
    {
      "cell_type": "code",
      "metadata": {
        "id": "FY1E3r_JxnYl"
      },
      "source": [
        "\n",
        "def plot_history(history, title=None):\n",
        "    \"\"\"\n",
        "    Given a model history will plot the model training history and \n",
        "    return the last scores for each loss and metric in the  model.\n",
        "    Returns None.\n",
        "    \"\"\"\n",
        "    hist = pd.DataFrame(history.history)\n",
        "    fig = plt.figure(figsize = (10,5))\n",
        "    ax = fig.add_subplot(121)\n",
        "    ax2 = fig.add_subplot(122)\n",
        "    loss = hist.columns[hist.columns.str.endswith('loss')]\n",
        "    accuracy = hist.columns[hist.columns.str.endswith('accuracy')]\n",
        "    hist[loss].plot(title='Loss', ax=ax)\n",
        "    hist[accuracy].plot(title='accuracy', ax=ax2)\n",
        "    plt.title(title)\n",
        "    plt.show()\n",
        "    \n",
        "    for l in loss:\n",
        "        print(f'final {l}: {hist[l].iloc[-1]}')\n",
        "    for r in accuracy:\n",
        "        print(f'final {r}: {hist[r].iloc[-1]}')\n",
        "    plt.show()"
      ],
      "id": "FY1E3r_JxnYl",
      "execution_count": 124,
      "outputs": []
    },
    {
      "cell_type": "markdown",
      "metadata": {
        "id": "6HdEBMQDj9I5"
      },
      "source": [
        "## The Data:\n",
        "\n",
        "We are going to return to our horror author data.  This is a collection of sentences from horror novels written by Edgar Allen Poe, H.P. Lovecraft, or Mary Shelley.  The task is to classify each sentency by the author who wrote it."
      ],
      "id": "6HdEBMQDj9I5"
    },
    {
      "cell_type": "code",
      "metadata": {
        "id": "Bpgsvz78j2CM",
        "colab": {
          "base_uri": "https://localhost:8080/",
          "height": 206
        },
        "outputId": "34d00354-9f5f-40c6-8cbb-251aaf6637be"
      },
      "source": [
        "#load the data \n",
        "spooky = pd.read_csv('https://raw.githubusercontent.com/learn-co-students/011121-pt-ds/main/phase_4/nlp/horror_writers.csv', \n",
        "                     usecols=['text','author'])\n",
        "spooky.head()"
      ],
      "id": "Bpgsvz78j2CM",
      "execution_count": 125,
      "outputs": [
        {
          "output_type": "execute_result",
          "data": {
            "text/html": [
              "<div>\n",
              "<style scoped>\n",
              "    .dataframe tbody tr th:only-of-type {\n",
              "        vertical-align: middle;\n",
              "    }\n",
              "\n",
              "    .dataframe tbody tr th {\n",
              "        vertical-align: top;\n",
              "    }\n",
              "\n",
              "    .dataframe thead th {\n",
              "        text-align: right;\n",
              "    }\n",
              "</style>\n",
              "<table border=\"1\" class=\"dataframe\">\n",
              "  <thead>\n",
              "    <tr style=\"text-align: right;\">\n",
              "      <th></th>\n",
              "      <th>text</th>\n",
              "      <th>author</th>\n",
              "    </tr>\n",
              "  </thead>\n",
              "  <tbody>\n",
              "    <tr>\n",
              "      <th>0</th>\n",
              "      <td>This process, however, afforded me no means of...</td>\n",
              "      <td>EAP</td>\n",
              "    </tr>\n",
              "    <tr>\n",
              "      <th>1</th>\n",
              "      <td>It never once occurred to me that the fumbling...</td>\n",
              "      <td>HPL</td>\n",
              "    </tr>\n",
              "    <tr>\n",
              "      <th>2</th>\n",
              "      <td>In his left hand was a gold snuff box, from wh...</td>\n",
              "      <td>EAP</td>\n",
              "    </tr>\n",
              "    <tr>\n",
              "      <th>3</th>\n",
              "      <td>How lovely is spring As we looked from Windsor...</td>\n",
              "      <td>MWS</td>\n",
              "    </tr>\n",
              "    <tr>\n",
              "      <th>4</th>\n",
              "      <td>Finding nothing else, not even gold, the Super...</td>\n",
              "      <td>HPL</td>\n",
              "    </tr>\n",
              "  </tbody>\n",
              "</table>\n",
              "</div>"
            ],
            "text/plain": [
              "                                                text author\n",
              "0  This process, however, afforded me no means of...    EAP\n",
              "1  It never once occurred to me that the fumbling...    HPL\n",
              "2  In his left hand was a gold snuff box, from wh...    EAP\n",
              "3  How lovely is spring As we looked from Windsor...    MWS\n",
              "4  Finding nothing else, not even gold, the Super...    HPL"
            ]
          },
          "metadata": {
            "tags": []
          },
          "execution_count": 125
        }
      ]
    },
    {
      "cell_type": "code",
      "metadata": {
        "id": "_XNqdydroVcJ"
      },
      "source": [
        "X = spooky.text\n",
        "y = spooky.author\n",
        "\n",
        "#encode labels for multiclass classification in Keras\n",
        "encoder = LabelEncoder()\n",
        "y = encoder.fit_transform(y)\n",
        "y = to_categorical(y)\n",
        "\n",
        "X_train, X_test, y_train, y_test = train_test_split(X, y, test_size=.4, random_state=123)\n",
        "X_val, X_holdout, y_val, y_holdout = train_test_split(X_test, y_test, test_size = .5, random_state=123)"
      ],
      "id": "_XNqdydroVcJ",
      "execution_count": 126,
      "outputs": []
    },
    {
      "cell_type": "markdown",
      "metadata": {
        "id": "kzt0ix6slERg"
      },
      "source": [
        "## TextVectorization Layer\n",
        "\n",
        "We are going to use a special Keras layer called TextVectorization that will process our input for us and transform into a sequences of integers to pass to our LSTM layer.  Layers like this can make models more like pipelines.  Notice that we only fit the vectorizer layer on the training set to avoid data leakage.\n",
        "\n",
        "**NOTE** We can actually use Keras models in SKLearn pipelines and cross-validation functions by wrapping it in a KerasClassifier or KeraRegressor wrapper class.  [Here's some more information about that.](https://machinelearningmastery.com/use-keras-deep-learning-models-scikit-learn-python/)"
      ],
      "id": "kzt0ix6slERg"
    },
    {
      "cell_type": "markdown",
      "metadata": {
        "id": "PuSfUz4zpQeH"
      },
      "source": [
        "There are several things to think about when configuring your `TextVectorization` layer.\n",
        "\n",
        "1. In order to use the embedding layer (we will discuss this later) you need your vectorization layer to output just integer indices for the words.  Each word will be assigned an arbitrary integer that the embedding layer can reference later.  Do not use countvectors, binary, or TF-IDF.  We are not using a bag of words strategy.\n",
        "2. It is not necessary to removing stop words  You might try both removing and leaving them in.  The layer is reading the text in sequence and may or may not benefit from syntactic words.\n",
        "3. You do not need to lemmatize or stem your words.  Unlike bag of words approaches, you do want to keep the context of your tokens\n",
        "4. You should, however lower the case and remove punctuation.  The embedding layer will be looking up the words in a table and doesn't need to attend to case or punctuation.  The token look ups are based on individual words and the difference between 'Horse' and 'horse' or 'horse.' and 'horse.' will not improve accuracy."
      ],
      "id": "PuSfUz4zpQeH"
    },
    {
      "cell_type": "code",
      "metadata": {
        "id": "F_wR_yn7lfsJ"
      },
      "source": [
        "#max length of input.  \n",
        "#Will truncate inputs longer and add 0s to the end of sequences that are longer.\n",
        "output_sequence_length = spooky.text.str.len().max()\n",
        "\n",
        "#define the length of the output sequences.  \n",
        "#Here we are using the length of the longest sentence.  You can make it shorter.\n",
        "vectorizer = TextVectorization(output_sequence_length=output_sequence_length,\n",
        "                               #We want lists of integers as our output.\n",
        "                               #These will be lookup indices in our embedding layer\n",
        "                              output_mode='int',\n",
        "                               #We will use the default standardization strategy\n",
        "                               #We could also pass a custom function for custom\n",
        "                               #standardization strategies.\n",
        "                               standardize='lower_and_strip_punctuation')\n",
        "\n",
        "#Fit the vectorizer to the training data.\n",
        "#We need to transform it into a numpy array for this.\n",
        "vectorizer.adapt(X_train.to_numpy())\n",
        "\n",
        "#We will need the total length of the vocabulary for the embedding layer.\n",
        "vocab_len = vectorizer.vocabulary_size()"
      ],
      "id": "F_wR_yn7lfsJ",
      "execution_count": 127,
      "outputs": []
    },
    {
      "cell_type": "code",
      "metadata": {
        "id": "oLr0yZNIph3V"
      },
      "source": [
        "def create_LSTM():\n",
        "  model = Sequential()\n",
        "\n",
        "  #Define your input layer for one feature (the whole string) and the dtype.\n",
        "  #If you don't let Keras know to expect a string, it will assume it's looking\n",
        "  #for a float and you'll get an error.\n",
        "  model.add(InputLayer(input_shape=(1,), dtype=tf.string))\n",
        "\n",
        "  #Fitted TextVectorization layer\n",
        "  model.add(vectorizer)\n",
        "\n",
        "  #Untrained Embedding Layer, embedding dimensions of 300\n",
        "  #We'll talk about this layer more a little farther down\n",
        "  model.add(Embedding(vocab_len, 300, input_length=output_sequence_length))\n",
        "  \n",
        "  #The recurrent LSTM layer.  We have it return all of its Y outputs for \n",
        "  #each cycle of each layer.\n",
        "  model.add(LSTM(50, return_sequences=True, \n",
        "                #  dropout=0.5, \n",
        "                 kernel_regularizer=regularizers.l1_l2(l1=1e-4, l2=1e-3)))\n",
        "  #The below below layer returns the highest activation of each LSTM node\n",
        "  #for each input and pass them to the dense layer.\n",
        "  model.add(GlobalMaxPool1D())\n",
        "  \n",
        "  model.add(Dense(50, activation='relu', \n",
        "                  kernel_regularizer = regularizers.l1_l2(l1=1e-4, l2=1e-3)))  \n",
        "  model.add(Dropout(0.5))\n",
        "  \n",
        "  model.add(Dense(50, activation='relu', \n",
        "                  kernel_regularizer = regularizers.l1_l2(l1=1e-4, l2=1e-3)))  \n",
        "  model.add(Dropout(0.5))\n",
        "  \n",
        "  #Add an output layer.  3 nodes for 3 classes and a softmax activation\n",
        "  model.add(Dense(3, activation='softmax'))\n",
        "\n",
        "  optimizer = optimizers.Adam(learning_rate=.01)\n",
        "  model.compile(loss = 'categorical_crossentropy', optimizer = optimizer, metrics = ['accuracy'])\n",
        "\n",
        "  return model"
      ],
      "id": "oLr0yZNIph3V",
      "execution_count": 128,
      "outputs": []
    },
    {
      "cell_type": "code",
      "metadata": {
        "id": "dPjU9MA9q0gU",
        "colab": {
          "base_uri": "https://localhost:8080/",
          "height": 1000
        },
        "outputId": "7a0efbd5-fcf0-463d-a26c-d1f0e47535f9"
      },
      "source": [
        "%%time\n",
        "self_train = create_LSTM()\n",
        "\n",
        "self_train.summary()\n",
        "\n",
        "self_trained_history = self_train.fit(X_train,\n",
        "                    y_train,\n",
        "                    validation_data = (X_val, y_val),\n",
        "                    epochs = 10,\n",
        "                    batch_size = 128)\n",
        "\n",
        "self_trained_score = self_train.evaluate(X_test, y_test)\n",
        "\n",
        "print(f'Accraucy on Test Set {self_trained_score[1]}, Loss: {self_trained_score[0]}')\n",
        "plot_history(self_trained_history)"
      ],
      "id": "dPjU9MA9q0gU",
      "execution_count": 129,
      "outputs": [
        {
          "output_type": "stream",
          "text": [
            "Model: \"sequential_1\"\n",
            "_________________________________________________________________\n",
            "Layer (type)                 Output Shape              Param #   \n",
            "=================================================================\n",
            "text_vectorization (TextVect (None, 4663)              0         \n",
            "_________________________________________________________________\n",
            "embedding (Embedding)        (None, 4663, 300)         6284100   \n",
            "_________________________________________________________________\n",
            "lstm_1 (LSTM)                (None, 4663, 50)          70200     \n",
            "_________________________________________________________________\n",
            "global_max_pooling1d_1 (Glob (None, 50)                0         \n",
            "_________________________________________________________________\n",
            "dense_3 (Dense)              (None, 50)                2550      \n",
            "_________________________________________________________________\n",
            "dropout_2 (Dropout)          (None, 50)                0         \n",
            "_________________________________________________________________\n",
            "dense_4 (Dense)              (None, 50)                2550      \n",
            "_________________________________________________________________\n",
            "dropout_3 (Dropout)          (None, 50)                0         \n",
            "_________________________________________________________________\n",
            "dense_5 (Dense)              (None, 3)                 153       \n",
            "=================================================================\n",
            "Total params: 6,359,553\n",
            "Trainable params: 6,359,553\n",
            "Non-trainable params: 0\n",
            "_________________________________________________________________\n",
            "Epoch 1/10\n",
            "92/92 [==============================] - 61s 643ms/step - loss: 1.0909 - accuracy: 0.4801 - val_loss: 0.8730 - val_accuracy: 0.5909\n",
            "Epoch 2/10\n",
            "92/92 [==============================] - 59s 642ms/step - loss: 0.8065 - accuracy: 0.6178 - val_loss: 0.8521 - val_accuracy: 0.5970\n",
            "Epoch 3/10\n",
            "92/92 [==============================] - 59s 643ms/step - loss: 0.6900 - accuracy: 0.6695 - val_loss: 1.0684 - val_accuracy: 0.5715\n",
            "Epoch 4/10\n",
            "92/92 [==============================] - 59s 643ms/step - loss: 0.6761 - accuracy: 0.7020 - val_loss: 1.3256 - val_accuracy: 0.5669\n",
            "Epoch 5/10\n",
            "92/92 [==============================] - 59s 645ms/step - loss: 0.7930 - accuracy: 0.7392 - val_loss: 1.0817 - val_accuracy: 0.6933\n",
            "Epoch 6/10\n",
            "92/92 [==============================] - 59s 643ms/step - loss: 0.5245 - accuracy: 0.8760 - val_loss: 1.2696 - val_accuracy: 0.7176\n",
            "Epoch 7/10\n",
            "92/92 [==============================] - 59s 643ms/step - loss: 0.4366 - accuracy: 0.9242 - val_loss: 1.2720 - val_accuracy: 0.7579\n",
            "Epoch 8/10\n",
            "92/92 [==============================] - 59s 641ms/step - loss: 0.3742 - accuracy: 0.9403 - val_loss: 1.3391 - val_accuracy: 0.7781\n",
            "Epoch 9/10\n",
            "92/92 [==============================] - 59s 643ms/step - loss: 0.3256 - accuracy: 0.9527 - val_loss: 1.6367 - val_accuracy: 0.7640\n",
            "Epoch 10/10\n",
            "92/92 [==============================] - 59s 644ms/step - loss: 0.3129 - accuracy: 0.9565 - val_loss: 1.1831 - val_accuracy: 0.7778\n",
            "245/245 [==============================] - 28s 115ms/step - loss: 1.2008 - accuracy: 0.7794\n",
            "Accraucy on Test Set 0.779366672039032, Loss: 1.2007979154586792\n"
          ],
          "name": "stdout"
        },
        {
          "output_type": "display_data",
          "data": {
            "image/png": "[encoded data removed]",
            "text/plain": [
              "<Figure size 720x360 with 2 Axes>"
            ]
          },
          "metadata": {
            "tags": [],
            "needs_background": "light"
          }
        },
        {
          "output_type": "stream",
          "text": [
            "final loss: 0.3129194974899292\n",
            "final val_loss: 1.1831005811691284\n",
            "final accuracy: 0.9564995169639587\n",
            "final val_accuracy: 0.7778345346450806\n",
            "CPU times: user 9min 46s, sys: 17.3 s, total: 10min 3s\n",
            "Wall time: 11min 5s\n"
          ],
          "name": "stdout"
        }
      ]
    },
    {
      "cell_type": "markdown",
      "metadata": {
        "id": "ndJGo_YRyKXq"
      },
      "source": [
        "# Word Embeddings\n",
        "\n",
        "You have have noticed that we used tf.keras.layers.Embedding() after the text vectorization layer.  This is an amazingly awesome way of encoding words.  It transforms each word from an integer (from the vectorizer layer) to a vector.  What does it mean for a word to be a vector?\n",
        "\n",
        "It means the representation of the word can contain arbitrary amounts of information about that word.  Each dimension of the space that the word vector exists in contains information about that word.\n",
        "\n",
        "We can determine relationships between words and define similarity.\n",
        "\n",
        "These embeddings are discovered using unsupervised learning on large datasets of text.  Several weights for embedding models are available that have been trained for thousands of hours on hundreds of millions of texts (All of wikipedia, or instance).  \n",
        "\n",
        "The results are a library of {word:vector} pairs with each dimension of the vector representing a relationship between words learned from the corpus the model was trained on.\n",
        "\n",
        "![Word embedding space](https://developers.google.com/machine-learning/crash-course/images/linear-relationships.svg)\n",
        "\n",
        "Source: https://developers.google.com/machine-learning/crash-course/embeddings/translating-to-a-lower-dimensional-space\n"
      ],
      "id": "ndJGo_YRyKXq"
    },
    {
      "cell_type": "code",
      "metadata": {
        "id": "8mZFz4gOIETg"
      },
      "source": [
        "from sklearn.decomposition import PCA\n",
        "\n",
        "\n",
        "import gensim.downloader as api\n",
        "from gensim.test.utils import datapath\n",
        "from gensim.models import KeyedVectors\n",
        "word_vectors = api.load(\"glove-wiki-gigaword-100\")"
      ],
      "id": "8mZFz4gOIETg",
      "execution_count": 130,
      "outputs": []
    },
    {
      "cell_type": "markdown",
      "metadata": {
        "id": "eJPneGqtJPIa"
      },
      "source": [
        "We can look up vectors like a dictionary"
      ],
      "id": "eJPneGqtJPIa"
    },
    {
      "cell_type": "code",
      "metadata": {
        "id": "ViGNdqogJKKd",
        "colab": {
          "base_uri": "https://localhost:8080/"
        },
        "outputId": "d2288f8f-6da3-47bf-acdc-fa5c0549cfd0"
      },
      "source": [
        "word_vectors['coffee']"
      ],
      "id": "ViGNdqogJKKd",
      "execution_count": 131,
      "outputs": [
        {
          "output_type": "execute_result",
          "data": {
            "text/plain": [
              "array([ 0.12632  ,  0.86414  , -0.46052  ,  0.26095  ,  0.077033 ,\n",
              "        0.076186 ,  0.71959  ,  0.38122  , -0.10287  , -0.44388  ,\n",
              "       -0.52962  , -1.0485   , -0.0086082,  0.74915  , -0.15369  ,\n",
              "        0.13386  ,  0.27879  , -0.46137  ,  0.24354  , -0.2938   ,\n",
              "        0.018044 ,  0.63083  ,  0.7563   , -0.53305  , -0.087608 ,\n",
              "        0.64316  ,  0.32683  , -0.80606  , -0.43119  , -0.20887  ,\n",
              "        0.04233  ,  0.353    ,  0.88587  , -0.19565  ,  0.089291 ,\n",
              "        1.2422   ,  0.30059  ,  0.11292  ,  0.58895  , -1.1495   ,\n",
              "        0.04609  , -0.6724   ,  0.15442  , -1.0943   ,  0.6908   ,\n",
              "        0.25969  , -1.0809   , -0.25303  ,  0.13122  , -1.3414   ,\n",
              "       -0.39785  ,  0.041388 , -0.46881  ,  0.57462  , -0.40331  ,\n",
              "       -0.98234  , -1.0115   ,  0.44262  ,  1.298    , -0.24297  ,\n",
              "        0.10954  ,  0.35864  , -0.39146  , -0.68843  , -0.23691  ,\n",
              "       -0.46501  ,  0.83416  , -0.61574  ,  1.2178   , -0.98078  ,\n",
              "       -0.19633  ,  0.56886  ,  0.84273  ,  0.08674  , -0.3358   ,\n",
              "        0.24778  ,  0.2095   , -0.55883  , -0.80078  ,  0.73736  ,\n",
              "        0.39286  , -0.32991  , -1.0962   ,  0.12232  ,  0.035029 ,\n",
              "       -0.67786  , -0.0046046, -0.16735  , -0.35969  , -0.28092  ,\n",
              "        0.5878   ,  0.36623  , -0.23438  , -0.48979  , -1.0814   ,\n",
              "       -0.4334   ,  0.037651 ,  0.31222  ,  0.66783  ,  0.77703  ],\n",
              "      dtype=float32)"
            ]
          },
          "metadata": {
            "tags": []
          },
          "execution_count": 131
        }
      ]
    },
    {
      "cell_type": "markdown",
      "metadata": {
        "id": "wRTvK3iGJXnh"
      },
      "source": [
        "We can also use the gensim model to find relationships between words. For instance:\n",
        "\n",
        "1. Similarity"
      ],
      "id": "wRTvK3iGJXnh"
    },
    {
      "cell_type": "code",
      "metadata": {
        "id": "dc13A2tdJgZq",
        "colab": {
          "base_uri": "https://localhost:8080/"
        },
        "outputId": "b817268a-d021-41a1-8843-587a85d9edc1"
      },
      "source": [
        "word_vectors.most_similar('coffee')"
      ],
      "id": "dc13A2tdJgZq",
      "execution_count": 132,
      "outputs": [
        {
          "output_type": "execute_result",
          "data": {
            "text/plain": [
              "[('tea', 0.77326899766922),\n",
              " ('drinks', 0.7287518978118896),\n",
              " ('beer', 0.7253385782241821),\n",
              " ('cocoa', 0.7026591300964355),\n",
              " ('wine', 0.7002726793289185),\n",
              " ('drink', 0.699092447757721),\n",
              " ('corn', 0.6825441122055054),\n",
              " ('sugar', 0.6775093078613281),\n",
              " ('bread', 0.6727856397628784),\n",
              " ('fruit', 0.6671490669250488)]"
            ]
          },
          "metadata": {
            "tags": []
          },
          "execution_count": 132
        }
      ]
    },
    {
      "cell_type": "markdown",
      "metadata": {
        "id": "813opERxKDrz"
      },
      "source": [
        "2. Analogies"
      ],
      "id": "813opERxKDrz"
    },
    {
      "cell_type": "code",
      "metadata": {
        "id": "7gyhvUBMKGMu"
      },
      "source": [
        "def analogy(x1, x2, y1):\n",
        "    result = word_vectors.most_similar(positive=[y1, x2], negative=[x1])\n",
        "    return result"
      ],
      "id": "7gyhvUBMKGMu",
      "execution_count": 133,
      "outputs": []
    },
    {
      "cell_type": "code",
      "metadata": {
        "id": "p-prlgPHJhqj",
        "colab": {
          "base_uri": "https://localhost:8080/"
        },
        "outputId": "c4f97d48-5d10-4ee6-9f39-1a160c033715"
      },
      "source": [
        "analogy('japan','japanese','america')"
      ],
      "id": "p-prlgPHJhqj",
      "execution_count": 134,
      "outputs": [
        {
          "output_type": "execute_result",
          "data": {
            "text/plain": [
              "[('american', 0.8103364706039429),\n",
              " ('americans', 0.6751643419265747),\n",
              " ('latin', 0.6664613485336304),\n",
              " ('black', 0.634178102016449),\n",
              " ('many', 0.6329406499862671),\n",
              " ('``', 0.6276753544807434),\n",
              " ('mexican', 0.6221809983253479),\n",
              " ('nation', 0.6197335720062256),\n",
              " ('among', 0.6174299716949463),\n",
              " ('even', 0.6061267852783203)]"
            ]
          },
          "metadata": {
            "tags": []
          },
          "execution_count": 134
        }
      ]
    },
    {
      "cell_type": "code",
      "metadata": {
        "id": "FWwGf6XNsjr5",
        "colab": {
          "base_uri": "https://localhost:8080/"
        },
        "outputId": "d941ce59-e9cf-464a-8c13-1a5092e7e400"
      },
      "source": [
        "analogy('man','king','woman')"
      ],
      "id": "FWwGf6XNsjr5",
      "execution_count": 135,
      "outputs": [
        {
          "output_type": "execute_result",
          "data": {
            "text/plain": [
              "[('queen', 0.7698541283607483),\n",
              " ('monarch', 0.6843380928039551),\n",
              " ('throne', 0.6755735874176025),\n",
              " ('daughter', 0.6594556570053101),\n",
              " ('princess', 0.6520534753799438),\n",
              " ('prince', 0.6517034769058228),\n",
              " ('elizabeth', 0.6464517712593079),\n",
              " ('mother', 0.6311717629432678),\n",
              " ('emperor', 0.6106470823287964),\n",
              " ('wife', 0.6098655462265015)]"
            ]
          },
          "metadata": {
            "tags": []
          },
          "execution_count": 135
        }
      ]
    },
    {
      "cell_type": "markdown",
      "metadata": {
        "id": "0wTc4cT8KwXj"
      },
      "source": [
        "# Bias in Word Embeddings\n",
        "These relationships are learned from texts from the real world and carry the associations present in them.  We need to be aware of introducing bias into models that may affect people's lives."
      ],
      "id": "0wTc4cT8KwXj"
    },
    {
      "cell_type": "code",
      "metadata": {
        "id": "oLOpkbWPK-il",
        "colab": {
          "base_uri": "https://localhost:8080/"
        },
        "outputId": "129d35e9-009e-40eb-aed1-a6c3c1fe15a9"
      },
      "source": [
        "analogy('man','doctor','woman')"
      ],
      "id": "oLOpkbWPK-il",
      "execution_count": 136,
      "outputs": [
        {
          "output_type": "execute_result",
          "data": {
            "text/plain": [
              "[('nurse', 0.7735227346420288),\n",
              " ('physician', 0.7189429998397827),\n",
              " ('doctors', 0.6824328303337097),\n",
              " ('patient', 0.6750682592391968),\n",
              " ('dentist', 0.6726033687591553),\n",
              " ('pregnant', 0.6642460227012634),\n",
              " ('medical', 0.6520450115203857),\n",
              " ('nursing', 0.645348072052002),\n",
              " ('mother', 0.6393327116966248),\n",
              " ('hospital', 0.6387495994567871)]"
            ]
          },
          "metadata": {
            "tags": []
          },
          "execution_count": 136
        }
      ]
    },
    {
      "cell_type": "markdown",
      "metadata": {
        "id": "SBnADOr4L5FZ"
      },
      "source": [
        "## Graphical Representation"
      ],
      "id": "SBnADOr4L5FZ"
    },
    {
      "cell_type": "code",
      "metadata": {
        "id": "y2bX3oNIL2ws"
      },
      "source": [
        "def display_pca_scatterplot(model, words=None, sample=0):\n",
        "    if words == None:\n",
        "        if sample > 0:\n",
        "            words = np.random.choice(list(model.vocab.keys()), sample)\n",
        "        else:\n",
        "            words = [ word for word in model.vocab ]\n",
        "        \n",
        "    word_vectors = np.array([model[w] for w in words])\n",
        "\n",
        "    twodim = PCA().fit_transform(word_vectors)[:,:2]\n",
        "    \n",
        "    plt.figure(figsize=(6,6))\n",
        "    plt.scatter(twodim[:,0], twodim[:,1], edgecolors='k', c='r')\n",
        "    for word, (x,y) in zip(words, twodim):\n",
        "        plt.text(x+0.05, y+0.05, word)"
      ],
      "id": "y2bX3oNIL2ws",
      "execution_count": 137,
      "outputs": []
    },
    {
      "cell_type": "code",
      "metadata": {
        "id": "1Q5pP6EeL8eo",
        "colab": {
          "base_uri": "https://localhost:8080/",
          "height": 374
        },
        "outputId": "e6f777fd-e0a4-42ef-de3d-74027d3f252e"
      },
      "source": [
        "display_pca_scatterplot(word_vectors, \n",
        "                        ['coffee', 'tea', 'beer', 'wine', 'brandy', 'rum', 'champagne', 'water',\n",
        "                         'spaghetti', 'borscht', 'hamburger', 'pizza', 'falafel', 'sushi', 'meatballs',\n",
        "                         'dog', 'horse', 'cat', 'monkey', 'parrot', 'koala', 'lizard',\n",
        "                         'frog', 'toad', 'monkey', 'ape', 'kangaroo', 'wombat', 'wolf',\n",
        "                         'france', 'germany', 'hungary', 'luxembourg', 'australia', 'fiji', 'china',\n",
        "                         'homework', 'assignment', 'problem', 'exam', 'test', 'class',\n",
        "                         'school', 'college', 'university', 'institute'])"
      ],
      "id": "1Q5pP6EeL8eo",
      "execution_count": 138,
      "outputs": [
        {
          "output_type": "display_data",
          "data": {
            "image/png": "[encoded data removed]",
            "text/plain": [
              "<Figure size 432x432 with 1 Axes>"
            ]
          },
          "metadata": {
            "tags": [],
            "needs_background": "light"
          }
        }
      ]
    },
    {
      "cell_type": "markdown",
      "metadata": {
        "id": "OwWsn3T0MXBN"
      },
      "source": [
        "# SpaCy\n",
        "\n",
        "Gensim is great because it lets us easily explore word embeddings.  SpaCy is great because it loads word embeddings much faster, allowing us to use larger embedding models, and has some great functionality for NLP, including parts of speech, processing, and more."
      ],
      "id": "OwWsn3T0MXBN"
    },
    {
      "cell_type": "markdown",
      "metadata": {
        "id": "HGDz11fwMW6l"
      },
      "source": [
        ""
      ],
      "id": "HGDz11fwMW6l"
    },
    {
      "cell_type": "code",
      "metadata": {
        "id": "B1YqDnh_WSc7",
        "colab": {
          "base_uri": "https://localhost:8080/"
        },
        "outputId": "9b431bbb-ddfe-41ca-9883-799278451186"
      },
      "source": [
        "import spacy\n",
        "\n",
        "# download and import the large english model.\n",
        "!python -m spacy download en_core_web_lg\n",
        "import en_core_web_lg\n",
        "# nlp will be our word embedding model\n",
        "nlp = en_core_web_lg.load()\n"
      ],
      "id": "B1YqDnh_WSc7",
      "execution_count": 139,
      "outputs": [
        {
          "output_type": "stream",
          "text": [
            "Collecting en_core_web_lg==2.2.5\n",
            "  Downloading https://github.com/explosion/spacy-models/releases/download/en_core_web_lg-2.2.5/en_core_web_lg-2.2.5.tar.gz (827.9 MB)\n",
            "\u001b[K     |████████████████████████████████| 827.9 MB 1.2 MB/s \n",
            "\u001b[?25hRequirement already satisfied: spacy>=2.2.2 in /usr/local/lib/python3.7/dist-packages (from en_core_web_lg==2.2.5) (2.2.4)\n",
            "Requirement already satisfied: blis<0.5.0,>=0.4.0 in /usr/local/lib/python3.7/dist-packages (from spacy>=2.2.2->en_core_web_lg==2.2.5) (0.4.1)\n",
            "Requirement already satisfied: wasabi<1.1.0,>=0.4.0 in /usr/local/lib/python3.7/dist-packages (from spacy>=2.2.2->en_core_web_lg==2.2.5) (0.8.2)\n",
            "Requirement already satisfied: plac<1.2.0,>=0.9.6 in /usr/local/lib/python3.7/dist-packages (from spacy>=2.2.2->en_core_web_lg==2.2.5) (1.1.3)\n",
            "Requirement already satisfied: srsly<1.1.0,>=1.0.2 in /usr/local/lib/python3.7/dist-packages (from spacy>=2.2.2->en_core_web_lg==2.2.5) (1.0.5)\n",
            "Requirement already satisfied: murmurhash<1.1.0,>=0.28.0 in /usr/local/lib/python3.7/dist-packages (from spacy>=2.2.2->en_core_web_lg==2.2.5) (1.0.5)\n",
            "Requirement already satisfied: numpy>=1.15.0 in /usr/local/lib/python3.7/dist-packages (from spacy>=2.2.2->en_core_web_lg==2.2.5) (1.19.5)\n",
            "Requirement already satisfied: preshed<3.1.0,>=3.0.2 in /usr/local/lib/python3.7/dist-packages (from spacy>=2.2.2->en_core_web_lg==2.2.5) (3.0.5)\n",
            "Requirement already satisfied: tqdm<5.0.0,>=4.38.0 in /usr/local/lib/python3.7/dist-packages (from spacy>=2.2.2->en_core_web_lg==2.2.5) (4.41.1)\n",
            "Requirement already satisfied: thinc==7.4.0 in /usr/local/lib/python3.7/dist-packages (from spacy>=2.2.2->en_core_web_lg==2.2.5) (7.4.0)\n",
            "Requirement already satisfied: requests<3.0.0,>=2.13.0 in /usr/local/lib/python3.7/dist-packages (from spacy>=2.2.2->en_core_web_lg==2.2.5) (2.23.0)\n",
            "Requirement already satisfied: catalogue<1.1.0,>=0.0.7 in /usr/local/lib/python3.7/dist-packages (from spacy>=2.2.2->en_core_web_lg==2.2.5) (1.0.0)\n",
            "Requirement already satisfied: cymem<2.1.0,>=2.0.2 in /usr/local/lib/python3.7/dist-packages (from spacy>=2.2.2->en_core_web_lg==2.2.5) (2.0.5)\n",
            "Requirement already satisfied: setuptools in /usr/local/lib/python3.7/dist-packages (from spacy>=2.2.2->en_core_web_lg==2.2.5) (57.2.0)\n",
            "Requirement already satisfied: importlib-metadata>=0.20 in /usr/local/lib/python3.7/dist-packages (from catalogue<1.1.0,>=0.0.7->spacy>=2.2.2->en_core_web_lg==2.2.5) (4.6.1)\n",
            "Requirement already satisfied: zipp>=0.5 in /usr/local/lib/python3.7/dist-packages (from importlib-metadata>=0.20->catalogue<1.1.0,>=0.0.7->spacy>=2.2.2->en_core_web_lg==2.2.5) (3.5.0)\n",
            "Requirement already satisfied: typing-extensions>=3.6.4 in /usr/local/lib/python3.7/dist-packages (from importlib-metadata>=0.20->catalogue<1.1.0,>=0.0.7->spacy>=2.2.2->en_core_web_lg==2.2.5) (3.7.4.3)\n",
            "Requirement already satisfied: idna<3,>=2.5 in /usr/local/lib/python3.7/dist-packages (from requests<3.0.0,>=2.13.0->spacy>=2.2.2->en_core_web_lg==2.2.5) (2.10)\n",
            "Requirement already satisfied: certifi>=2017.4.17 in /usr/local/lib/python3.7/dist-packages (from requests<3.0.0,>=2.13.0->spacy>=2.2.2->en_core_web_lg==2.2.5) (2021.5.30)\n",
            "Requirement already satisfied: chardet<4,>=3.0.2 in /usr/local/lib/python3.7/dist-packages (from requests<3.0.0,>=2.13.0->spacy>=2.2.2->en_core_web_lg==2.2.5) (3.0.4)\n",
            "Requirement already satisfied: urllib3!=1.25.0,!=1.25.1,<1.26,>=1.21.1 in /usr/local/lib/python3.7/dist-packages (from requests<3.0.0,>=2.13.0->spacy>=2.2.2->en_core_web_lg==2.2.5) (1.24.3)\n",
            "\u001b[38;5;2m✔ Download and installation successful\u001b[0m\n",
            "You can now load the model via spacy.load('en_core_web_lg')\n"
          ],
          "name": "stdout"
        }
      ]
    },
    {
      "cell_type": "markdown",
      "metadata": {
        "id": "AN8EfMTtM4AB"
      },
      "source": [
        "In our last model, we allowed our embedding layer to learn its own embedding vectors from the texts in our training corpus.  But what if we used transfer learning to instead load the weights from a pretrained word embedding model?"
      ],
      "id": "AN8EfMTtM4AB"
    },
    {
      "cell_type": "markdown",
      "metadata": {
        "id": "96mMeBo1Nnaw"
      },
      "source": [
        "# Creating Word Embedding Weights\n",
        "\n",
        "We have to create our own matrix of weights for our embedding layer.  We do this by using our vectorizer to create an index for a matrix, and filling in each row of the matrix with the word embedding provided by our pretrained word embedding model.  The result is a (vocab, embedding_dimension) shaped numpy array that our LSTM layer can use as a lookup table to find the correct embedding for each word in our text samples.\n",
        "\n",
        "Finally, we freeze those weights to reduce computation time.\n",
        "\n",
        "## LSTM\n",
        "As you recall, each node of the LSTM layer processes each word in each document in order, using the word embedding from the Embedding layer as the value for that word.  LSTMs 'remember' information from previous items in the sequence, words in the sentence in this case, and carry that information forward to help process later items in the sequence.\n"
      ],
      "id": "96mMeBo1Nnaw"
    },
    {
      "cell_type": "code",
      "metadata": {
        "id": "Z-bG1KljOqg5"
      },
      "source": [
        "\n",
        "#generate the embedding matrix\n",
        "vocab = vectorizer.get_vocabulary()\n",
        "num_tokens = len(vocab)\n",
        "embedding_dim = len(nlp('The').vector)\n",
        "\n",
        "#Generate the embedding weights usign the SpaCy word vectors for the vocabulary\n",
        "#in our training corpus.  (This may take awhile)\n",
        "embedding_matrix = np.zeros((num_tokens, embedding_dim))\n",
        "for i, word in enumerate(vocab):\n",
        "    embedding_matrix[i] = nlp(word).vector\n",
        "\n",
        "#Load the embedding matrix as the weights matrix for the embedding layer and set trainable to False\n",
        "Embedding_layer=Embedding(\n",
        "    num_tokens,\n",
        "    embedding_dim,\n",
        "    embeddings_initializer=Constant(embedding_matrix),\n",
        "    trainable=False)"
      ],
      "id": "Z-bG1KljOqg5",
      "execution_count": 140,
      "outputs": []
    },
    {
      "cell_type": "code",
      "metadata": {
        "id": "LEz7WbbFsVJ-"
      },
      "source": [
        "def create_pretrain_LSTM():\n",
        "  model = Sequential()\n",
        "\n",
        "  #Define your input layer for one feature (the whole string) and the dtype.\n",
        "  #If you don't let Keras know to expect a string, it will assume it's looking\n",
        "  #for a float and you'll get an error.\n",
        "  model.add(InputLayer(input_shape=(1,), dtype=tf.string))\n",
        "\n",
        "  #Fitted TextVectorization layer\n",
        "  model.add(vectorizer)\n",
        "\n",
        "  #Untrained Embedding Layer, embedding dimensions of 300\n",
        "  #We'll talk about this layer more a little farther down\n",
        "  model.add(Embedding_layer)\n",
        "  \n",
        "  #The recurrent LSTM layer.  We have it return all of its Y outputs for \n",
        "  #each cycle of each layer.\n",
        "  model.add(LSTM(50, return_sequences=True,\n",
        "                #  dropout=0.5,\n",
        "                 kernel_regularizer=regularizers.l1_l2(l1=1e-4, l2=1e-3)))\n",
        "  #The below below layer returns the highest activation of each LSTM node\n",
        "  #for each input and pass them to the dense layer.\n",
        "  model.add(GlobalMaxPool1D())\n",
        "  \n",
        "  model.add(Dense(50, activation='relu', \n",
        "                  kernel_regularizer = regularizers.l1_l2(l1=1e-4, l2=1e-3)))  \n",
        "  model.add(Dropout(0.5))\n",
        "  \n",
        "  model.add(Dense(50, activation='relu', \n",
        "                  kernel_regularizer = regularizers.l1_l2(l1=1e-4, l2=1e-3)))  \n",
        "  model.add(Dropout(0.5))\n",
        "  \n",
        "  #Add an output layer.  3 nodes for 3 classes and a softmax activation\n",
        "  model.add(Dense(3, activation='softmax'))\n",
        "\n",
        "  optimizer = optimizers.Adam(learning_rate=.01)\n",
        "  model.compile(loss = 'categorical_crossentropy', optimizer = optimizer, metrics = ['accuracy'])\n",
        "\n",
        "  return model"
      ],
      "id": "LEz7WbbFsVJ-",
      "execution_count": 141,
      "outputs": []
    },
    {
      "cell_type": "code",
      "metadata": {
        "id": "6qPHE-gTOd91",
        "colab": {
          "base_uri": "https://localhost:8080/"
        },
        "outputId": "85414a2d-71ef-4cf1-d432-b3914df31dc9"
      },
      "source": [
        "%%time\n",
        "\n",
        "#Delete previously drawn tensorflow graphs from memory. Helps with memory management\n",
        "tf.keras.backend.clear_session()\n",
        "\n",
        "pretrain = create_pretrain_LSTM()\n",
        "\n",
        "pretrain.summary()\n",
        "\n",
        "pretrained_history = pretrain.fit(X_train,\n",
        "                    y_train,\n",
        "                    validation_data = (X_val, y_val),\n",
        "                    epochs = 10,\n",
        "                    batch_size = 128)\n",
        "\n",
        "pretrained_score = pretrain.evaluate(X_test, y_test)\n",
        "\n"
      ],
      "id": "6qPHE-gTOd91",
      "execution_count": 142,
      "outputs": [
        {
          "output_type": "stream",
          "text": [
            "Model: \"sequential\"\n",
            "_________________________________________________________________\n",
            "Layer (type)                 Output Shape              Param #   \n",
            "=================================================================\n",
            "text_vectorization (TextVect (None, 4663)              0         \n",
            "_________________________________________________________________\n",
            "embedding_1 (Embedding)      (None, 4663, 300)         6284100   \n",
            "_________________________________________________________________\n",
            "lstm (LSTM)                  (None, 4663, 50)          70200     \n",
            "_________________________________________________________________\n",
            "global_max_pooling1d (Global (None, 50)                0         \n",
            "_________________________________________________________________\n",
            "dense (Dense)                (None, 50)                2550      \n",
            "_________________________________________________________________\n",
            "dropout (Dropout)            (None, 50)                0         \n",
            "_________________________________________________________________\n",
            "dense_1 (Dense)              (None, 50)                2550      \n",
            "_________________________________________________________________\n",
            "dropout_1 (Dropout)          (None, 50)                0         \n",
            "_________________________________________________________________\n",
            "dense_2 (Dense)              (None, 3)                 153       \n",
            "=================================================================\n",
            "Total params: 6,359,553\n",
            "Trainable params: 75,453\n",
            "Non-trainable params: 6,284,100\n",
            "_________________________________________________________________\n",
            "Epoch 1/10\n",
            "92/92 [==============================] - 44s 454ms/step - loss: 1.1566 - accuracy: 0.5638 - val_loss: 0.9858 - val_accuracy: 0.6915\n",
            "Epoch 2/10\n",
            "92/92 [==============================] - 42s 453ms/step - loss: 0.9948 - accuracy: 0.6828 - val_loss: 0.9360 - val_accuracy: 0.7158\n",
            "Epoch 3/10\n",
            "92/92 [==============================] - 41s 452ms/step - loss: 0.9323 - accuracy: 0.7172 - val_loss: 0.8519 - val_accuracy: 0.7439\n",
            "Epoch 4/10\n",
            "92/92 [==============================] - 42s 453ms/step - loss: 0.9020 - accuracy: 0.7293 - val_loss: 0.8791 - val_accuracy: 0.7265\n",
            "Epoch 5/10\n",
            "92/92 [==============================] - 41s 452ms/step - loss: 0.8766 - accuracy: 0.7431 - val_loss: 0.8670 - val_accuracy: 0.7347\n",
            "Epoch 6/10\n",
            "92/92 [==============================] - 42s 453ms/step - loss: 0.8785 - accuracy: 0.7407 - val_loss: 0.8570 - val_accuracy: 0.7474\n",
            "Epoch 7/10\n",
            "92/92 [==============================] - 42s 457ms/step - loss: 0.8696 - accuracy: 0.7450 - val_loss: 0.8589 - val_accuracy: 0.7441\n",
            "Epoch 8/10\n",
            "92/92 [==============================] - 42s 455ms/step - loss: 0.8563 - accuracy: 0.7543 - val_loss: 0.8803 - val_accuracy: 0.7298\n",
            "Epoch 9/10\n",
            "92/92 [==============================] - 42s 456ms/step - loss: 0.8435 - accuracy: 0.7609 - val_loss: 0.8572 - val_accuracy: 0.7487\n",
            "Epoch 10/10\n",
            "92/92 [==============================] - 42s 455ms/step - loss: 0.8262 - accuracy: 0.7725 - val_loss: 0.8205 - val_accuracy: 0.7579\n",
            "245/245 [==============================] - 28s 114ms/step - loss: 0.8265 - accuracy: 0.7528\n",
            "CPU times: user 7min 45s, sys: 12.1 s, total: 7min 57s\n",
            "Wall time: 8min 5s\n"
          ],
          "name": "stdout"
        }
      ]
    },
    {
      "cell_type": "code",
      "metadata": {
        "id": "kXAUhl0y4wBt",
        "colab": {
          "base_uri": "https://localhost:8080/",
          "height": 828
        },
        "outputId": "1426e661-9acc-4220-f5c5-f601130163e0"
      },
      "source": [
        "print(f'Accuracy of Self-trained Embedding model: {self_trained_score[1]}, Loss: {self_trained_score[0]}')\n",
        "plot_history(self_trained_history, title='Self-trained Word Embedding Training History')\n",
        "print(f'Accuracy of Pretrained Embedding model: {pretrained_score[1]}, Loss: {pretrained_score[0]}')\n",
        "plot_history(pretrained_history, title='Pretrained Word Embedding Training History')\n"
      ],
      "id": "kXAUhl0y4wBt",
      "execution_count": 143,
      "outputs": [
        {
          "output_type": "stream",
          "text": [
            "Accuracy of Self-trained Embedding model: 0.779366672039032, Loss: 1.2007979154586792\n"
          ],
          "name": "stdout"
        },
        {
          "output_type": "display_data",
          "data": {
            "image/png": "[encoded data removed]",
            "text/plain": [
              "<Figure size 720x360 with 2 Axes>"
            ]
          },
          "metadata": {
            "tags": [],
            "needs_background": "light"
          }
        },
        {
          "output_type": "stream",
          "text": [
            "final loss: 0.3129194974899292\n",
            "final val_loss: 1.1831005811691284\n",
            "final accuracy: 0.9564995169639587\n",
            "final val_accuracy: 0.7778345346450806\n",
            "Accuracy of Pretrained Embedding model: 0.7528089880943298, Loss: 0.8265091776847839\n"
          ],
          "name": "stdout"
        },
        {
          "output_type": "display_data",
          "data": {
            "image/png": "[encoded data removed]",
            "text/plain": [
              "<Figure size 720x360 with 2 Axes>"
            ]
          },
          "metadata": {
            "tags": [],
            "needs_background": "light"
          }
        },
        {
          "output_type": "stream",
          "text": [
            "final loss: 0.8262230753898621\n",
            "final val_loss: 0.8204911351203918\n",
            "final accuracy: 0.7725376486778259\n",
            "final val_accuracy: 0.7579162120819092\n"
          ],
          "name": "stdout"
        }
      ]
    },
    {
      "cell_type": "code",
      "metadata": {
        "colab": {
          "base_uri": "https://localhost:8080/",
          "height": 545
        },
        "id": "1MdJuFaLT5jM",
        "outputId": "5b48bcde-0932-45e7-cf91-3eaa866fc2e5"
      },
      "source": [
        "# self_train_pred = np.argmax(self_train.predict(X_test), axis=1)\n",
        "# pretrain_pred = np.argmax(pretrain.predict(X_test), axis=1)\n",
        "# y_test1d = np.argmax(y_test, axis=1)\n",
        "\n",
        "ax1 = confusion_plot(y_test1d, self_train_pred, labels=encoder.classes_)\n",
        "ax1.set_title('Self Trained Model Confusion Matrix')\n",
        "plt.show()\n",
        "ax2 = confusion_plot(y_test1d, pretrain_pred, labels=encoder.classes_)\n",
        "ax2.set_title('Pretrained Model Confusion Matrix')\n",
        "plt.show()"
      ],
      "id": "1MdJuFaLT5jM",
      "execution_count": 203,
      "outputs": [
        {
          "output_type": "display_data",
          "data": {
            "image/png": "[encoded data removed]",
            "text/plain": [
              "<Figure size 432x288 with 2 Axes>"
            ]
          },
          "metadata": {
            "tags": [],
            "needs_background": "light"
          }
        },
        {
          "output_type": "display_data",
          "data": {
            "image/png": "[encoded data removed]",
            "text/plain": [
              "<Figure size 432x288 with 2 Axes>"
            ]
          },
          "metadata": {
            "tags": [],
            "needs_background": "light"
          }
        }
      ]
    },
    {
      "cell_type": "markdown",
      "metadata": {
        "id": "ZP60JdVnyvQ3"
      },
      "source": [
        "## Final Model Evaluation:\n",
        "Which model should we choose as our best?"
      ],
      "id": "ZP60JdVnyvQ3"
    },
    {
      "cell_type": "code",
      "metadata": {
        "id": "YDib3yjGy0af"
      },
      "source": [
        "#best_model = \n",
        "#final_scores = model.evaluation(X_holdout, y_holdout)"
      ],
      "id": "YDib3yjGy0af",
      "execution_count": 146,
      "outputs": []
    },
    {
      "cell_type": "markdown",
      "metadata": {
        "id": "DEfzz-qitaBw"
      },
      "source": [
        "# Conclusion\n",
        "\n",
        "In this lesson you learned about recurrent neural networks, or RNNs, how to implement them in Keras, and how to use transfer learning to improve a natural language processing modeling task.\n",
        "\n",
        "I hope you feel comfortable and confident to use these powerful tools in your own work.\n",
        "\n",
        "# References:\n",
        "\n",
        "[Pretrained Word Embeddings using SpaCy and Keras TextVectorization](https://towardsdatascience.com/pretrained-word-embeddings-using-spacy-and-keras-textvectorization-ef75ecd56360)\n",
        "\n",
        "[Multi-Class Text Classification with LSTM](https://towardsdatascience.com/multi-class-text-classification-with-lstm-1590bee1bd17)"
      ],
      "id": "DEfzz-qitaBw"
    },
    {
      "cell_type": "code",
      "metadata": {
        "id": "echmrGTspN4N"
      },
      "source": [
        ""
      ],
      "id": "echmrGTspN4N",
      "execution_count": 146,
      "outputs": []
    }
  ]
}