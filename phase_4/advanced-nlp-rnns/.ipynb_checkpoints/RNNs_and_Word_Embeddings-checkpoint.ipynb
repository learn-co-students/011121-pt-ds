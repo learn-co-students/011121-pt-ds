{
 "cells": [
  {
   "cell_type": "markdown",
   "id": "AjVB2rMrXmeG",
   "metadata": {
    "id": "AjVB2rMrXmeG"
   },
   "source": [
    "# Recurrent Neural Networks for Text Classification\n",
    "\n",
    "## Learning Objectives:\n",
    "1. Understand how a recurrent neural network differs from a feed forward network\n",
    "2. Learn to implement RNNs in Keras\n",
    "3. Explore word embeddings for natural language processing\n",
    "4. Use NLP to classify documents using word embeddings\n",
    "\n",
    "What is a Recurrent Neural Network?\n",
    "\n",
    "![RNN Image](https://www.researchgate.net/profile/Ali-Daud/publication/330920746/figure/fig2/AS:741304577318912@1553752192108/Folded-and-unfolded-regular-recurrent-neural-networks-with-single-hidden-recurrent-layer.png)\n",
    "\n",
    "Source: https://www.researchgate.net/figure/Recurrent-neural-networks-structure_fig4_326884617\n",
    "\n",
    "In a nutshell, an RNN takes in X<sub>t</sub> and outputs 2 things:  \n",
    "\n",
    "1. y<sub>t</sub> The output.\n",
    "2. W<sub>t</sub> a value that is passed back into the layer and combined with X<sub>t+1</sub> to produce:\n",
    "  1. y<sub>t+t</sub>\n",
    "  2. W<sub>t+1</sub>\n",
    "\n",
    "...and so on until the end of the sequence of the input.\n",
    "\n",
    "It is a recurring process that acts on each feature of an input **In Sequence**.\n",
    "\n",
    "The W value allows the model to pass information from previous X<sub>t-1</sub> inputs to affect how the model processes the X<sub>t<sub> input.\n",
    "\n",
    "You can think of this as a single node that is calling itself over and over (most accurate) or as a series of identical nodes being called in sequence (easier, but less accurate conceptualization).\n",
    "\n",
    "The values passed to the next layer in the model could consist of all of the Y values or just the final output of node after processing all of the inputs.  This is a hyperparameter you can tune in your model development.  Y output sequences can also make up final model outputs where a full sequence is desired, not just a classification.  Translation models would be an example of this impelementation.  Forecasting a time series would be another.\n",
    "\n",
    "There are many flavors of RNNs and what sets them apart is how the W is formed and what information is passed between recurrences.  \n",
    "\n",
    "*Note* Just a like a densely connected layer, information is potentially passed through multiple of these recurring nodes in parallel for each layer in the model.\n",
    "\n",
    "![multi-node RNN](https://gblobscdn.gitbook.com/assets%2F-LvBP1svpACTB1R1x_U4%2F-LwEQnQw8wHRB6_2zYtG%2F-LwEZT8zd07mLDuaQZwy%2Fimage.png?alt=media&token=93a3c3e2-e32b-4fec-baf5-5e6b092920c4)\n",
    "\n",
    "Source: https://docs.paperspace.com/machine-learning/wiki/recurrent-neural-network-rnn\n",
    "\n",
    "# Why RNNs?\n",
    "\n",
    "While a feed forward network of dense layers processes each feature independently, an RNN treats them as a sequence in which the order of features is important.  This makes it ideal for:\n",
    "\n",
    "1. Time series data\n",
    "2. Audio data\n",
    "3. Natural language\n",
    "4. Anything else where the order of features carries important information.\n",
    "\n",
    "# Memory Cells:\n",
    "\n",
    "LSTMs, or Long-Short Term Memory RNNS and GRUs, Gated Recurrent Units, pass an additional value with the W, a memory cell.  While the W is fully dependent on the X and the previous W<sub>t-1</sub> values, the memory cell has potentially persistent values through multiple loops.  This allows the model have a more persistent memory of inputs from many steps previous to X<sub>t</sub>.  \n",
    "\n",
    "For example, a GRU might learn to remember the tense of a sentence or the gender of a character.\n",
    "\n",
    "![RNNs, LSTMs, and GRUs](https://slidetodoc.com/presentation_image_h/8a65d4524f55935cb441b783479395ed/image-33.jpg)\n",
    "\n",
    "Source: https://slidetodoc.com/recurrent-neural-networks-deeplearning-ai-gated-recurrent-unit/\n",
    "\n",
    "# What are the trainable Parameters:\n",
    "\n",
    "The trainable parameters and activation functions in an RNN are the various weights and functions are inside each individual parallel node.  There are, potentially, more than one weight depending on the flavor of RNN.  However, the same weights are used for each feature in the sequence for a given node.\n",
    "\n",
    "This is different than a dense node where each feature has a separate weight.  One potential benefit of this is that certain configurations of RNNs can process **variable** length inputs, which feed forward networks cannot.\n",
    "\n",
    "#Further Reading\n",
    "\n",
    "Here is a wonderful article by Michael Phi with animations that does a great job explaining further:  https://towardsdatascience.com/illustrated-guide-to-lstms-and-gru-s-a-step-by-step-explanation-44e9eb85bf21"
   ]
  },
  {
   "cell_type": "markdown",
   "id": "OMsbEp8ujC4T",
   "metadata": {
    "id": "OMsbEp8ujC4T"
   },
   "source": [
    "# LSTMs in Keras\n",
    "\n",
    "Keras has a pretty simple implementation of RNN layers.  Below I will demonstrate how to create an LSTM model."
   ]
  },
  {
   "cell_type": "code",
   "execution_count": 39,
   "id": "PK5WW8xPjTc8",
   "metadata": {
    "id": "PK5WW8xPjTc8"
   },
   "outputs": [],
   "source": [
    "import pandas as pd\n",
    "import numpy as np\n",
    "import matplotlib.pyplot as plt\n",
    "\n",
    "import tensorflow as tf\n",
    "from tensorflow.keras import regularizers, optimizers\n",
    "from tensorflow.keras.layers.experimental.preprocessing import TextVectorization\n",
    "from tensorflow.keras.layers import Embedding, Dense, Dropout, InputLayer, LSTM, \\\n",
    "Flatten, GlobalMaxPool1D\n",
    "from tensorflow.keras import optimizers\n",
    "from tensorflow.keras.models import Sequential\n",
    "from tensorflow.keras.utils import to_categorical\n",
    "from tensorflow.keras.initializers import Constant\n",
    "\n",
    "\n",
    "from sklearn.model_selection import train_test_split\n",
    "from sklearn.preprocessing import LabelBinarizer, LabelEncoder"
   ]
  },
  {
   "cell_type": "code",
   "execution_count": 40,
   "id": "FY1E3r_JxnYl",
   "metadata": {
    "id": "FY1E3r_JxnYl"
   },
   "outputs": [],
   "source": [
    "\n",
    "def plot_history(history):\n",
    "    \"\"\"\n",
    "    Given a model history will plot the model training history and \n",
    "    return the last scores for each loss and metric in the  model.\n",
    "    Returns None.\n",
    "    \"\"\"\n",
    "    hist = pd.DataFrame(history.history)\n",
    "    fig = plt.figure(figsize = (10,5))\n",
    "    ax = fig.add_subplot(121)\n",
    "    ax2 = fig.add_subplot(122)\n",
    "    loss = hist.columns[hist.columns.str.endswith('loss')]\n",
    "    accuracy = hist.columns[hist.columns.str.endswith('accuracy')]\n",
    "    hist[loss].plot(title='Loss', ax=ax)\n",
    "    hist[accuracy].plot(title='accuracy', ax=ax2)\n",
    "    plt.show()\n",
    "    \n",
    "    for l in loss:\n",
    "        print(f'final {l}: {hist[l].iloc[-1]}')\n",
    "    for r in accuracy:\n",
    "        print(f'final {r}: {hist[r].iloc[-1]}')\n",
    "    plt.show()"
   ]
  },
  {
   "cell_type": "markdown",
   "id": "6HdEBMQDj9I5",
   "metadata": {
    "id": "6HdEBMQDj9I5"
   },
   "source": [
    "## The Data:\n",
    "\n",
    "We are going to return to our horror author data.  This is a collection of sentences from horror novels written by Edgar Allen Poe, H.P. Lovecraft, or Mary Shelley.  The task is to classify each sentency by the author who wrote it."
   ]
  },
  {
   "cell_type": "code",
   "execution_count": 42,
   "id": "Bpgsvz78j2CM",
   "metadata": {
    "colab": {
     "base_uri": "https://localhost:8080/",
     "height": 206
    },
    "id": "Bpgsvz78j2CM",
    "outputId": "25c6b58c-b392-4cef-b526-3b0ba41379fc"
   },
   "outputs": [
    {
     "data": {
      "text/html": [
       "<div>\n",
       "<style scoped>\n",
       "    .dataframe tbody tr th:only-of-type {\n",
       "        vertical-align: middle;\n",
       "    }\n",
       "\n",
       "    .dataframe tbody tr th {\n",
       "        vertical-align: top;\n",
       "    }\n",
       "\n",
       "    .dataframe thead th {\n",
       "        text-align: right;\n",
       "    }\n",
       "</style>\n",
       "<table border=\"1\" class=\"dataframe\">\n",
       "  <thead>\n",
       "    <tr style=\"text-align: right;\">\n",
       "      <th></th>\n",
       "      <th>text</th>\n",
       "      <th>author</th>\n",
       "    </tr>\n",
       "  </thead>\n",
       "  <tbody>\n",
       "    <tr>\n",
       "      <th>0</th>\n",
       "      <td>This process, however, afforded me no means of...</td>\n",
       "      <td>EAP</td>\n",
       "    </tr>\n",
       "    <tr>\n",
       "      <th>1</th>\n",
       "      <td>It never once occurred to me that the fumbling...</td>\n",
       "      <td>HPL</td>\n",
       "    </tr>\n",
       "    <tr>\n",
       "      <th>2</th>\n",
       "      <td>In his left hand was a gold snuff box, from wh...</td>\n",
       "      <td>EAP</td>\n",
       "    </tr>\n",
       "    <tr>\n",
       "      <th>3</th>\n",
       "      <td>How lovely is spring As we looked from Windsor...</td>\n",
       "      <td>MWS</td>\n",
       "    </tr>\n",
       "    <tr>\n",
       "      <th>4</th>\n",
       "      <td>Finding nothing else, not even gold, the Super...</td>\n",
       "      <td>HPL</td>\n",
       "    </tr>\n",
       "  </tbody>\n",
       "</table>\n",
       "</div>"
      ],
      "text/plain": [
       "                                                text author\n",
       "0  This process, however, afforded me no means of...    EAP\n",
       "1  It never once occurred to me that the fumbling...    HPL\n",
       "2  In his left hand was a gold snuff box, from wh...    EAP\n",
       "3  How lovely is spring As we looked from Windsor...    MWS\n",
       "4  Finding nothing else, not even gold, the Super...    HPL"
      ]
     },
     "execution_count": 42,
     "metadata": {
      "tags": []
     },
     "output_type": "execute_result"
    }
   ],
   "source": [
    "#load the data \n",
    "spooky = pd.read_csv('https://raw.githubusercontent.com/learn-co-students/011121-pt-ds/main/phase_4/nlp/horror_writers.csv', \n",
    "                     usecols=['text','author'])\n",
    "spooky.head()"
   ]
  },
  {
   "cell_type": "code",
   "execution_count": 43,
   "id": "_XNqdydroVcJ",
   "metadata": {
    "id": "_XNqdydroVcJ"
   },
   "outputs": [],
   "source": [
    "X = spooky.text\n",
    "y = spooky.author\n",
    "\n",
    "#One hot encode labels for multiclass classification in Keras\n",
    "# lb = LabelBinarizer()\n",
    "# y= lb.fit_transform(y)\n",
    "y = LabelEncoder().fit_transform(y)\n",
    "y = to_categorical(y)\n",
    "\n",
    "X_train, X_test, y_train, y_test = train_test_split(X, y, test_size=.4, random_state=123)\n",
    "X_val, X_holdout, y_val, y_holdout = train_test_split(X_test, y_test, test_size = .5, random_state=123)"
   ]
  },
  {
   "cell_type": "markdown",
   "id": "kzt0ix6slERg",
   "metadata": {
    "id": "kzt0ix6slERg"
   },
   "source": [
    "We are going to use a special Keras layer called TextVectorization that will process our input for us and transform into a sequences of integers to pass to our LSTM layer."
   ]
  },
  {
   "cell_type": "code",
   "execution_count": 44,
   "id": "F_wR_yn7lfsJ",
   "metadata": {
    "id": "F_wR_yn7lfsJ"
   },
   "outputs": [],
   "source": [
    "#max length of input.  \n",
    "#Will truncate inputs longer and add 0s to the end of sequences that are longer.\n",
    "output_sequence_length = spooky.text.str.len().max()\n",
    "\n",
    "vectorizer = TextVectorization(output_sequence_length=output_sequence_length,\n",
    "                                   )\n",
    "vectorizer.adapt(X_train.to_numpy())\n",
    "vocab_len = vectorizer.vocabulary_size()"
   ]
  },
  {
   "cell_type": "code",
   "execution_count": 45,
   "id": "oLr0yZNIph3V",
   "metadata": {
    "id": "oLr0yZNIph3V"
   },
   "outputs": [],
   "source": [
    "def create_LSTM():\n",
    "  model = Sequential()\n",
    "\n",
    "  #Define your input layer for one feature (the whole string) and the dtype.\n",
    "  #If you don't let Keras know to expect a string, it will assume it's looking\n",
    "  #for a float and you'll get an error.\n",
    "  model.add(InputLayer(input_shape=(1,), dtype=tf.string))\n",
    "\n",
    "  #Fitted TextVectorization layer\n",
    "  model.add(vectorizer)\n",
    "\n",
    "  #Untrained Embedding Layer, embedding dimensions of 300\n",
    "  #We'll talk about this layer more a little farther down\n",
    "  model.add(Embedding(vocab_len, 300, input_length=output_sequence_length))\n",
    "  \n",
    "  #The recurrent LSTM layer.  We have it return all of its Y outputs for \n",
    "  #each cycle of each layer.\n",
    "  model.add(LSTM(25, return_sequences=True))\n",
    "  model.add(Dropout(0.5))\n",
    "  #The below below layer returns the highest activation of each LSTM node\n",
    "  #for each input and pass them to the dense layer.\n",
    "  model.add(GlobalMaxPool1D())\n",
    "  \n",
    "  model.add(Dense(32, activation='relu', \n",
    "                  kernel_regularizer = regularizers.l1_l2(l1=1e-4, l2=1e-4)))  \n",
    "  model.add(Dropout(0.5))\n",
    "  \n",
    "  model.add(Dense(32, activation='relu', \n",
    "                  kernel_regularizer = regularizers.l1_l2(l1=1e-4, l2=1e-4)))  \n",
    "  model.add(Dropout(0.5))\n",
    "  \n",
    "  #Add an output layer.  3 nodes for 3 classes and a softmax activation\n",
    "  model.add(Dense(3, activation='softmax'))\n",
    "\n",
    "  optimizer = optimizers.Adam(learning_rate=.01)\n",
    "  model.compile(loss = 'categorical_crossentropy', optimizer = optimizer, metrics = ['accuracy'])\n",
    "\n",
    "  return model"
   ]
  },
  {
   "cell_type": "code",
   "execution_count": 46,
   "id": "dPjU9MA9q0gU",
   "metadata": {
    "colab": {
     "base_uri": "https://localhost:8080/"
    },
    "id": "dPjU9MA9q0gU",
    "outputId": "81dcfd8f-23a5-4c26-ba01-b8042a554432"
   },
   "outputs": [
    {
     "name": "stdout",
     "output_type": "stream",
     "text": [
      "Model: \"sequential_1\"\n",
      "_________________________________________________________________\n",
      "Layer (type)                 Output Shape              Param #   \n",
      "=================================================================\n",
      "text_vectorization (TextVect (None, 4663)              0         \n",
      "_________________________________________________________________\n",
      "embedding (Embedding)        (None, 4663, 300)         6284100   \n",
      "_________________________________________________________________\n",
      "lstm_1 (LSTM)                (None, 4663, 25)          32600     \n",
      "_________________________________________________________________\n",
      "dropout_2 (Dropout)          (None, 4663, 25)          0         \n",
      "_________________________________________________________________\n",
      "global_max_pooling1d_1 (Glob (None, 25)                0         \n",
      "_________________________________________________________________\n",
      "dense_3 (Dense)              (None, 32)                832       \n",
      "_________________________________________________________________\n",
      "dropout_3 (Dropout)          (None, 32)                0         \n",
      "_________________________________________________________________\n",
      "dense_4 (Dense)              (None, 32)                1056      \n",
      "_________________________________________________________________\n",
      "dropout_4 (Dropout)          (None, 32)                0         \n",
      "_________________________________________________________________\n",
      "dense_5 (Dense)              (None, 3)                 99        \n",
      "=================================================================\n",
      "Total params: 6,318,687\n",
      "Trainable params: 6,318,687\n",
      "Non-trainable params: 0\n",
      "_________________________________________________________________\n",
      "Epoch 1/10\n",
      "92/92 [==============================] - 56s 590ms/step - loss: 0.9324 - accuracy: 0.5544 - val_loss: 0.6890 - val_accuracy: 0.7510\n",
      "Epoch 2/10\n",
      "92/92 [==============================] - 54s 590ms/step - loss: 0.5356 - accuracy: 0.8165 - val_loss: 0.6038 - val_accuracy: 0.7679\n",
      "Epoch 3/10\n",
      "92/92 [==============================] - 54s 584ms/step - loss: 0.2994 - accuracy: 0.9131 - val_loss: 0.5699 - val_accuracy: 0.7929\n",
      "Epoch 4/10\n",
      "92/92 [==============================] - 53s 580ms/step - loss: 0.2002 - accuracy: 0.9473 - val_loss: 0.5947 - val_accuracy: 0.7878\n",
      "Epoch 5/10\n",
      "92/92 [==============================] - 54s 586ms/step - loss: 0.1418 - accuracy: 0.9652 - val_loss: 0.5784 - val_accuracy: 0.7960\n",
      "Epoch 6/10\n",
      "92/92 [==============================] - 54s 589ms/step - loss: 0.1247 - accuracy: 0.9689 - val_loss: 0.7187 - val_accuracy: 0.7873\n",
      "Epoch 7/10\n",
      "92/92 [==============================] - 54s 592ms/step - loss: 0.1007 - accuracy: 0.9772 - val_loss: 0.6535 - val_accuracy: 0.7901\n",
      "Epoch 8/10\n",
      "92/92 [==============================] - 54s 586ms/step - loss: 0.0902 - accuracy: 0.9789 - val_loss: 0.6966 - val_accuracy: 0.7896\n",
      "Epoch 9/10\n",
      "92/92 [==============================] - 54s 589ms/step - loss: 0.0894 - accuracy: 0.9812 - val_loss: 0.8380 - val_accuracy: 0.7600\n",
      "Epoch 10/10\n",
      "92/92 [==============================] - 54s 592ms/step - loss: 0.0843 - accuracy: 0.9820 - val_loss: 0.8163 - val_accuracy: 0.7852\n",
      "CPU times: user 8min 35s, sys: 13.8 s, total: 8min 49s\n",
      "Wall time: 9min 2s\n"
     ]
    }
   ],
   "source": [
    "%%time\n",
    "model = create_LSTM()\n",
    "\n",
    "model.summary()\n",
    "\n",
    "history = model.fit(X_train,\n",
    "                    y_train,\n",
    "                    validation_data = (X_val, y_val),\n",
    "                    epochs = 10,\n",
    "                    batch_size = 128)\n"
   ]
  },
  {
   "cell_type": "code",
   "execution_count": 47,
   "id": "PgJB-sP94cUB",
   "metadata": {
    "colab": {
     "base_uri": "https://localhost:8080/",
     "height": 440
    },
    "id": "PgJB-sP94cUB",
    "outputId": "e8f437ff-b881-4f6e-e59a-6c4ac014b3ee"
   },
   "outputs": [
    {
     "name": "stdout",
     "output_type": "stream",
     "text": [
      "245/245 [==============================] - 30s 123ms/step - loss: 0.8245 - accuracy: 0.7814\n",
      "Score on Test Set [0.824516773223877, 0.7814096212387085]\n"
     ]
    },
    {
     "data": {
      "image/png": "[encoded data removed]",
      "text/plain": [
       "<Figure size 720x360 with 2 Axes>"
      ]
     },
     "metadata": {
      "needs_background": "light",
      "tags": []
     },
     "output_type": "display_data"
    },
    {
     "name": "stdout",
     "output_type": "stream",
     "text": [
      "final loss: 0.08431050181388855\n",
      "final val_loss: 0.8163026571273804\n",
      "final accuracy: 0.9819528460502625\n",
      "final val_accuracy: 0.7852400541305542\n"
     ]
    }
   ],
   "source": [
    "\n",
    "self_trained_score = model.evaluate(X_test, y_test)\n",
    "print(f'Accraucy on Test Set {self_trained_score[1]}, Loss: {self_trained_score[0]}')\n",
    "plot_history(history)"
   ]
  },
  {
   "cell_type": "markdown",
   "id": "ndJGo_YRyKXq",
   "metadata": {
    "id": "ndJGo_YRyKXq"
   },
   "source": [
    "# Word Embeddings\n",
    "\n",
    "You have have noticed that we used tf.keras.layers.Embedding() after the text vectorization layer.  This is an amazingly awesome way of encoding words.  It transforms each word from an integer (from the vectorizer layer) to a vector.  What does it mean for a word to be a vector?\n",
    "\n",
    "It means the representation of the word can contain arbitrary amounts of information about that word.  Each dimension of the space that the word vector exists in contains information about that word.\n",
    "\n",
    "We can determine relationships between words and define similarity.\n",
    "\n",
    "These embeddings are discovered using unsupervised learning on large datasets of text.  Several weights for embedding models are available that have been trained for thousands of hours on hundreds of millions of texts (All of wikipedia, or instance).  \n",
    "\n",
    "The results are a library of {word:vector} pairs with each dimension of the vector representing a relationship between words learned from the corpus the model was trained on.\n",
    "\n",
    "![Word embedding space](https://developers.google.com/machine-learning/crash-course/images/linear-relationships.svg)\n",
    "\n",
    "Source: https://developers.google.com/machine-learning/crash-course/embeddings/translating-to-a-lower-dimensional-space\n"
   ]
  },
  {
   "cell_type": "code",
   "execution_count": 48,
   "id": "8mZFz4gOIETg",
   "metadata": {
    "id": "8mZFz4gOIETg"
   },
   "outputs": [],
   "source": [
    "from sklearn.decomposition import PCA\n",
    "\n",
    "\n",
    "import gensim.downloader as api\n",
    "from gensim.test.utils import datapath\n",
    "from gensim.models import KeyedVectors\n",
    "word_vectors = api.load(\"glove-wiki-gigaword-100\")"
   ]
  },
  {
   "cell_type": "markdown",
   "id": "eJPneGqtJPIa",
   "metadata": {
    "id": "eJPneGqtJPIa"
   },
   "source": [
    "We can look up vectors like a dictionary"
   ]
  },
  {
   "cell_type": "code",
   "execution_count": 49,
   "id": "ViGNdqogJKKd",
   "metadata": {
    "colab": {
     "base_uri": "https://localhost:8080/"
    },
    "id": "ViGNdqogJKKd",
    "outputId": "49e22ea4-4a6d-4541-b86c-d45345eee3a8"
   },
   "outputs": [
    {
     "data": {
      "text/plain": [
       "array([ 0.12632  ,  0.86414  , -0.46052  ,  0.26095  ,  0.077033 ,\n",
       "        0.076186 ,  0.71959  ,  0.38122  , -0.10287  , -0.44388  ,\n",
       "       -0.52962  , -1.0485   , -0.0086082,  0.74915  , -0.15369  ,\n",
       "        0.13386  ,  0.27879  , -0.46137  ,  0.24354  , -0.2938   ,\n",
       "        0.018044 ,  0.63083  ,  0.7563   , -0.53305  , -0.087608 ,\n",
       "        0.64316  ,  0.32683  , -0.80606  , -0.43119  , -0.20887  ,\n",
       "        0.04233  ,  0.353    ,  0.88587  , -0.19565  ,  0.089291 ,\n",
       "        1.2422   ,  0.30059  ,  0.11292  ,  0.58895  , -1.1495   ,\n",
       "        0.04609  , -0.6724   ,  0.15442  , -1.0943   ,  0.6908   ,\n",
       "        0.25969  , -1.0809   , -0.25303  ,  0.13122  , -1.3414   ,\n",
       "       -0.39785  ,  0.041388 , -0.46881  ,  0.57462  , -0.40331  ,\n",
       "       -0.98234  , -1.0115   ,  0.44262  ,  1.298    , -0.24297  ,\n",
       "        0.10954  ,  0.35864  , -0.39146  , -0.68843  , -0.23691  ,\n",
       "       -0.46501  ,  0.83416  , -0.61574  ,  1.2178   , -0.98078  ,\n",
       "       -0.19633  ,  0.56886  ,  0.84273  ,  0.08674  , -0.3358   ,\n",
       "        0.24778  ,  0.2095   , -0.55883  , -0.80078  ,  0.73736  ,\n",
       "        0.39286  , -0.32991  , -1.0962   ,  0.12232  ,  0.035029 ,\n",
       "       -0.67786  , -0.0046046, -0.16735  , -0.35969  , -0.28092  ,\n",
       "        0.5878   ,  0.36623  , -0.23438  , -0.48979  , -1.0814   ,\n",
       "       -0.4334   ,  0.037651 ,  0.31222  ,  0.66783  ,  0.77703  ],\n",
       "      dtype=float32)"
      ]
     },
     "execution_count": 49,
     "metadata": {
      "tags": []
     },
     "output_type": "execute_result"
    }
   ],
   "source": [
    "word_vectors['coffee']"
   ]
  },
  {
   "cell_type": "markdown",
   "id": "wRTvK3iGJXnh",
   "metadata": {
    "id": "wRTvK3iGJXnh"
   },
   "source": [
    "We can also use the gensim model to find relationships between words. For instance:\n",
    "\n",
    "1. Similarity"
   ]
  },
  {
   "cell_type": "code",
   "execution_count": 50,
   "id": "dc13A2tdJgZq",
   "metadata": {
    "colab": {
     "base_uri": "https://localhost:8080/"
    },
    "id": "dc13A2tdJgZq",
    "outputId": "0d0d066e-d6fd-4654-c796-ca0c35c47498"
   },
   "outputs": [
    {
     "data": {
      "text/plain": [
       "[('tea', 0.77326899766922),\n",
       " ('drinks', 0.7287518978118896),\n",
       " ('beer', 0.7253385782241821),\n",
       " ('cocoa', 0.7026591300964355),\n",
       " ('wine', 0.7002726793289185),\n",
       " ('drink', 0.699092447757721),\n",
       " ('corn', 0.6825441122055054),\n",
       " ('sugar', 0.6775093078613281),\n",
       " ('bread', 0.6727856397628784),\n",
       " ('fruit', 0.6671490669250488)]"
      ]
     },
     "execution_count": 50,
     "metadata": {
      "tags": []
     },
     "output_type": "execute_result"
    }
   ],
   "source": [
    "word_vectors.most_similar('coffee')"
   ]
  },
  {
   "cell_type": "markdown",
   "id": "813opERxKDrz",
   "metadata": {
    "id": "813opERxKDrz"
   },
   "source": [
    "2. Analogies"
   ]
  },
  {
   "cell_type": "code",
   "execution_count": 51,
   "id": "7gyhvUBMKGMu",
   "metadata": {
    "id": "7gyhvUBMKGMu"
   },
   "outputs": [],
   "source": [
    "def analogy(x1, x2, y1):\n",
    "    result = word_vectors.most_similar(positive=[y1, x2], negative=[x1])\n",
    "    return result"
   ]
  },
  {
   "cell_type": "code",
   "execution_count": 52,
   "id": "p-prlgPHJhqj",
   "metadata": {
    "colab": {
     "base_uri": "https://localhost:8080/"
    },
    "id": "p-prlgPHJhqj",
    "outputId": "9ccc2cb1-2d0d-4524-a604-e6d6805de845"
   },
   "outputs": [
    {
     "data": {
      "text/plain": [
       "[('american', 0.8103364706039429),\n",
       " ('americans', 0.6751643419265747),\n",
       " ('latin', 0.6664613485336304),\n",
       " ('black', 0.634178102016449),\n",
       " ('many', 0.6329406499862671),\n",
       " ('``', 0.6276753544807434),\n",
       " ('mexican', 0.6221809983253479),\n",
       " ('nation', 0.6197335720062256),\n",
       " ('among', 0.6174299716949463),\n",
       " ('even', 0.6061267852783203)]"
      ]
     },
     "execution_count": 52,
     "metadata": {
      "tags": []
     },
     "output_type": "execute_result"
    }
   ],
   "source": [
    "analogy('japan','japanese','america')"
   ]
  },
  {
   "cell_type": "code",
   "execution_count": 53,
   "id": "FWwGf6XNsjr5",
   "metadata": {
    "colab": {
     "base_uri": "https://localhost:8080/"
    },
    "id": "FWwGf6XNsjr5",
    "outputId": "893ca501-395d-46f9-b1c2-641157f21366"
   },
   "outputs": [
    {
     "data": {
      "text/plain": [
       "[('queen', 0.7698541283607483),\n",
       " ('monarch', 0.6843380928039551),\n",
       " ('throne', 0.6755735874176025),\n",
       " ('daughter', 0.6594556570053101),\n",
       " ('princess', 0.6520534753799438),\n",
       " ('prince', 0.6517034769058228),\n",
       " ('elizabeth', 0.6464517712593079),\n",
       " ('mother', 0.6311717629432678),\n",
       " ('emperor', 0.6106470823287964),\n",
       " ('wife', 0.6098655462265015)]"
      ]
     },
     "execution_count": 53,
     "metadata": {
      "tags": []
     },
     "output_type": "execute_result"
    }
   ],
   "source": [
    "analogy('man','king','woman')"
   ]
  },
  {
   "cell_type": "markdown",
   "id": "0wTc4cT8KwXj",
   "metadata": {
    "id": "0wTc4cT8KwXj"
   },
   "source": [
    "# Bias in Word Embeddings\n",
    "These relationships are learned from texts from the real world and carry the associations present in them.  We need to be aware of introducing bias into models that may affect people's lives."
   ]
  },
  {
   "cell_type": "code",
   "execution_count": 54,
   "id": "oLOpkbWPK-il",
   "metadata": {
    "colab": {
     "base_uri": "https://localhost:8080/"
    },
    "id": "oLOpkbWPK-il",
    "outputId": "9b071e8b-3728-45e1-b1d8-ff3ef7465c00"
   },
   "outputs": [
    {
     "data": {
      "text/plain": [
       "[('nurse', 0.7735227346420288),\n",
       " ('physician', 0.7189429998397827),\n",
       " ('doctors', 0.6824328303337097),\n",
       " ('patient', 0.6750682592391968),\n",
       " ('dentist', 0.6726033687591553),\n",
       " ('pregnant', 0.6642460227012634),\n",
       " ('medical', 0.6520450115203857),\n",
       " ('nursing', 0.645348072052002),\n",
       " ('mother', 0.6393327116966248),\n",
       " ('hospital', 0.6387495994567871)]"
      ]
     },
     "execution_count": 54,
     "metadata": {
      "tags": []
     },
     "output_type": "execute_result"
    }
   ],
   "source": [
    "analogy('man','doctor','woman')"
   ]
  },
  {
   "cell_type": "markdown",
   "id": "SBnADOr4L5FZ",
   "metadata": {
    "id": "SBnADOr4L5FZ"
   },
   "source": [
    "## Graphical Representation"
   ]
  },
  {
   "cell_type": "code",
   "execution_count": 55,
   "id": "y2bX3oNIL2ws",
   "metadata": {
    "id": "y2bX3oNIL2ws"
   },
   "outputs": [],
   "source": [
    "def display_pca_scatterplot(model, words=None, sample=0):\n",
    "    if words == None:\n",
    "        if sample > 0:\n",
    "            words = np.random.choice(list(model.vocab.keys()), sample)\n",
    "        else:\n",
    "            words = [ word for word in model.vocab ]\n",
    "        \n",
    "    word_vectors = np.array([model[w] for w in words])\n",
    "\n",
    "    twodim = PCA().fit_transform(word_vectors)[:,:2]\n",
    "    \n",
    "    plt.figure(figsize=(6,6))\n",
    "    plt.scatter(twodim[:,0], twodim[:,1], edgecolors='k', c='r')\n",
    "    for word, (x,y) in zip(words, twodim):\n",
    "        plt.text(x+0.05, y+0.05, word)"
   ]
  },
  {
   "cell_type": "code",
   "execution_count": 56,
   "id": "1Q5pP6EeL8eo",
   "metadata": {
    "colab": {
     "base_uri": "https://localhost:8080/",
     "height": 374
    },
    "id": "1Q5pP6EeL8eo",
    "outputId": "db91080d-1e07-4725-ed1a-3eb3dce7f5aa"
   },
   "outputs": [
    {
     "data": {
      "image/png": "[encoded data removed]",
      "text/plain": [
       "<Figure size 432x432 with 1 Axes>"
      ]
     },
     "metadata": {
      "needs_background": "light",
      "tags": []
     },
     "output_type": "display_data"
    }
   ],
   "source": [
    "display_pca_scatterplot(word_vectors, \n",
    "                        ['coffee', 'tea', 'beer', 'wine', 'brandy', 'rum', 'champagne', 'water',\n",
    "                         'spaghetti', 'borscht', 'hamburger', 'pizza', 'falafel', 'sushi', 'meatballs',\n",
    "                         'dog', 'horse', 'cat', 'monkey', 'parrot', 'koala', 'lizard',\n",
    "                         'frog', 'toad', 'monkey', 'ape', 'kangaroo', 'wombat', 'wolf',\n",
    "                         'france', 'germany', 'hungary', 'luxembourg', 'australia', 'fiji', 'china',\n",
    "                         'homework', 'assignment', 'problem', 'exam', 'test', 'class',\n",
    "                         'school', 'college', 'university', 'institute'])"
   ]
  },
  {
   "cell_type": "markdown",
   "id": "OwWsn3T0MXBN",
   "metadata": {
    "id": "OwWsn3T0MXBN"
   },
   "source": [
    "# SpaCy\n",
    "\n",
    "Gensim is great because it lets us easily explore word embeddings.  SpaCy is great because it loads word embeddings much faster, allowing us to use larger embedding models, and has some great functionality for NLP, including parts of speech, processing, and more."
   ]
  },
  {
   "cell_type": "markdown",
   "id": "HGDz11fwMW6l",
   "metadata": {
    "id": "HGDz11fwMW6l"
   },
   "source": []
  },
  {
   "cell_type": "code",
   "execution_count": 57,
   "id": "B1YqDnh_WSc7",
   "metadata": {
    "colab": {
     "base_uri": "https://localhost:8080/"
    },
    "id": "B1YqDnh_WSc7",
    "outputId": "e14316ba-336d-40c3-cc80-bef442c781a8"
   },
   "outputs": [
    {
     "name": "stdout",
     "output_type": "stream",
     "text": [
      "Collecting en_core_web_lg==2.2.5\n",
      "  Downloading https://github.com/explosion/spacy-models/releases/download/en_core_web_lg-2.2.5/en_core_web_lg-2.2.5.tar.gz (827.9 MB)\n",
      "\u001b[K     |████████████████████████████████| 827.9 MB 1.3 MB/s \n",
      "\u001b[?25hRequirement already satisfied: spacy>=2.2.2 in /usr/local/lib/python3.7/dist-packages (from en_core_web_lg==2.2.5) (2.2.4)\n",
      "Requirement already satisfied: preshed<3.1.0,>=3.0.2 in /usr/local/lib/python3.7/dist-packages (from spacy>=2.2.2->en_core_web_lg==2.2.5) (3.0.5)\n",
      "Requirement already satisfied: thinc==7.4.0 in /usr/local/lib/python3.7/dist-packages (from spacy>=2.2.2->en_core_web_lg==2.2.5) (7.4.0)\n",
      "Requirement already satisfied: blis<0.5.0,>=0.4.0 in /usr/local/lib/python3.7/dist-packages (from spacy>=2.2.2->en_core_web_lg==2.2.5) (0.4.1)\n",
      "Requirement already satisfied: setuptools in /usr/local/lib/python3.7/dist-packages (from spacy>=2.2.2->en_core_web_lg==2.2.5) (57.2.0)\n",
      "Requirement already satisfied: wasabi<1.1.0,>=0.4.0 in /usr/local/lib/python3.7/dist-packages (from spacy>=2.2.2->en_core_web_lg==2.2.5) (0.8.2)\n",
      "Requirement already satisfied: plac<1.2.0,>=0.9.6 in /usr/local/lib/python3.7/dist-packages (from spacy>=2.2.2->en_core_web_lg==2.2.5) (1.1.3)\n",
      "Requirement already satisfied: cymem<2.1.0,>=2.0.2 in /usr/local/lib/python3.7/dist-packages (from spacy>=2.2.2->en_core_web_lg==2.2.5) (2.0.5)\n",
      "Requirement already satisfied: murmurhash<1.1.0,>=0.28.0 in /usr/local/lib/python3.7/dist-packages (from spacy>=2.2.2->en_core_web_lg==2.2.5) (1.0.5)\n",
      "Requirement already satisfied: requests<3.0.0,>=2.13.0 in /usr/local/lib/python3.7/dist-packages (from spacy>=2.2.2->en_core_web_lg==2.2.5) (2.23.0)\n",
      "Requirement already satisfied: tqdm<5.0.0,>=4.38.0 in /usr/local/lib/python3.7/dist-packages (from spacy>=2.2.2->en_core_web_lg==2.2.5) (4.41.1)\n",
      "Requirement already satisfied: catalogue<1.1.0,>=0.0.7 in /usr/local/lib/python3.7/dist-packages (from spacy>=2.2.2->en_core_web_lg==2.2.5) (1.0.0)\n",
      "Requirement already satisfied: srsly<1.1.0,>=1.0.2 in /usr/local/lib/python3.7/dist-packages (from spacy>=2.2.2->en_core_web_lg==2.2.5) (1.0.5)\n",
      "Requirement already satisfied: numpy>=1.15.0 in /usr/local/lib/python3.7/dist-packages (from spacy>=2.2.2->en_core_web_lg==2.2.5) (1.19.5)\n",
      "Requirement already satisfied: importlib-metadata>=0.20 in /usr/local/lib/python3.7/dist-packages (from catalogue<1.1.0,>=0.0.7->spacy>=2.2.2->en_core_web_lg==2.2.5) (4.6.1)\n",
      "Requirement already satisfied: typing-extensions>=3.6.4 in /usr/local/lib/python3.7/dist-packages (from importlib-metadata>=0.20->catalogue<1.1.0,>=0.0.7->spacy>=2.2.2->en_core_web_lg==2.2.5) (3.7.4.3)\n",
      "Requirement already satisfied: zipp>=0.5 in /usr/local/lib/python3.7/dist-packages (from importlib-metadata>=0.20->catalogue<1.1.0,>=0.0.7->spacy>=2.2.2->en_core_web_lg==2.2.5) (3.5.0)\n",
      "Requirement already satisfied: urllib3!=1.25.0,!=1.25.1,<1.26,>=1.21.1 in /usr/local/lib/python3.7/dist-packages (from requests<3.0.0,>=2.13.0->spacy>=2.2.2->en_core_web_lg==2.2.5) (1.24.3)\n",
      "Requirement already satisfied: certifi>=2017.4.17 in /usr/local/lib/python3.7/dist-packages (from requests<3.0.0,>=2.13.0->spacy>=2.2.2->en_core_web_lg==2.2.5) (2021.5.30)\n",
      "Requirement already satisfied: chardet<4,>=3.0.2 in /usr/local/lib/python3.7/dist-packages (from requests<3.0.0,>=2.13.0->spacy>=2.2.2->en_core_web_lg==2.2.5) (3.0.4)\n",
      "Requirement already satisfied: idna<3,>=2.5 in /usr/local/lib/python3.7/dist-packages (from requests<3.0.0,>=2.13.0->spacy>=2.2.2->en_core_web_lg==2.2.5) (2.10)\n",
      "\u001b[38;5;2m✔ Download and installation successful\u001b[0m\n",
      "You can now load the model via spacy.load('en_core_web_lg')\n"
     ]
    }
   ],
   "source": [
    "import spacy\n",
    "\n",
    "# download and import the large english model.\n",
    "!python -m spacy download en_core_web_lg\n",
    "import en_core_web_lg\n",
    "# nlp will be our word embedding model\n",
    "nlp = en_core_web_lg.load()\n"
   ]
  },
  {
   "cell_type": "markdown",
   "id": "AN8EfMTtM4AB",
   "metadata": {
    "id": "AN8EfMTtM4AB"
   },
   "source": [
    "In our last model, we allowed our embedding layer to learn its own embedding vectors from the texts in our training corpus.  But what if we used transfer learning to instead load the weights from a pretrained word embedding model?"
   ]
  },
  {
   "cell_type": "markdown",
   "id": "96mMeBo1Nnaw",
   "metadata": {
    "id": "96mMeBo1Nnaw"
   },
   "source": [
    "# Creating Word Embedding Weights\n",
    "\n",
    "We have to create our own matrix of weights for our embedding layer.  We do this by using our vectorizer to create an index for a matrix, and filling in each row of the matrix with the word embedding provided by our pretrained word embedding model.  The result is a (vocab, embedding_dimension) shaped numpy array that our LSTM layer can use as a lookup table to find the correct embedding for each word in our text samples.\n",
    "\n",
    "Finally, we freeze those weights to reduce computation time.\n",
    "\n",
    "## LSTM\n",
    "As you recall, each node of the LSTM layer processes each word in each document in order, using the word embedding from the Embedding layer as the value for that word.  LSTMs 'remember' information from previous items in the sequence, words in the sentence in this case, and carry that information forward to help process later items in the sequence.\n"
   ]
  },
  {
   "cell_type": "code",
   "execution_count": 58,
   "id": "Z-bG1KljOqg5",
   "metadata": {
    "id": "Z-bG1KljOqg5"
   },
   "outputs": [],
   "source": [
    "\n",
    "#generate the embedding matrix\n",
    "vocab = vectorizer.get_vocabulary()\n",
    "num_tokens = len(vocab)\n",
    "embedding_dim = len(nlp('The').vector)\n",
    "\n",
    "#Generate the embedding weights usign the SpaCy word vectors for the vocabulary\n",
    "#in our training corpus.  (This may take awhile)\n",
    "embedding_matrix = np.zeros((num_tokens, embedding_dim))\n",
    "for i, word in enumerate(vocab):\n",
    "    embedding_matrix[i] = nlp(word).vector\n",
    "\n",
    "#Load the embedding matrix as the weights matrix for the embedding layer and set trainable to False\n",
    "Embedding_layer=Embedding(\n",
    "    num_tokens,\n",
    "    embedding_dim,\n",
    "    embeddings_initializer=Constant(embedding_matrix),\n",
    "    trainable=False)"
   ]
  },
  {
   "cell_type": "code",
   "execution_count": 59,
   "id": "LEz7WbbFsVJ-",
   "metadata": {
    "id": "LEz7WbbFsVJ-"
   },
   "outputs": [],
   "source": [
    "def create_pretrain_LSTM():\n",
    "  model = Sequential()\n",
    "  model.add(InputLayer(input_shape=(1,), dtype=tf.string))\n",
    "  model.add(vectorizer)\n",
    "  model.add(Embedding_layer)\n",
    "  model.add(LSTM(25, return_sequences=True))\n",
    "  model.add(GlobalMaxPool1D())\n",
    "  model.add(Dense(32, activation='relu', \n",
    "                  kernel_regularizer = regularizers.l1_l2(l1=1e-5, l2=1e-4)))  \n",
    "  model.add(Dropout(0.5))\n",
    "  model.add(Dense(32, activation='relu', \n",
    "                  kernel_regularizer = regularizers.l1_l2(l1=1e-5, l2=1e-4)))  \n",
    "  model.add(Dropout(0.5))\n",
    "\n",
    "  #Add an output layer.  3 nodes for 3 classes and a softmax activation\n",
    "  model.add(Dense(3, activation='softmax'))\n",
    "  optimizer = optimizers.Adam(learning_rate=.01)\n",
    "  model.compile(loss = 'categorical_crossentropy', optimizer = optimizer, metrics = ['accuracy'])\n",
    "\n",
    "  return model"
   ]
  },
  {
   "cell_type": "code",
   "execution_count": 60,
   "id": "6qPHE-gTOd91",
   "metadata": {
    "colab": {
     "base_uri": "https://localhost:8080/"
    },
    "id": "6qPHE-gTOd91",
    "outputId": "b233cd23-233d-49ba-8b5f-9dba9b55cfd8"
   },
   "outputs": [
    {
     "name": "stdout",
     "output_type": "stream",
     "text": [
      "Model: \"sequential\"\n",
      "_________________________________________________________________\n",
      "Layer (type)                 Output Shape              Param #   \n",
      "=================================================================\n",
      "text_vectorization (TextVect (None, 4663)              0         \n",
      "_________________________________________________________________\n",
      "embedding_1 (Embedding)      (None, 4663, 300)         6284100   \n",
      "_________________________________________________________________\n",
      "lstm (LSTM)                  (None, 4663, 25)          32600     \n",
      "_________________________________________________________________\n",
      "global_max_pooling1d (Global (None, 25)                0         \n",
      "_________________________________________________________________\n",
      "dense (Dense)                (None, 32)                832       \n",
      "_________________________________________________________________\n",
      "dropout (Dropout)            (None, 32)                0         \n",
      "_________________________________________________________________\n",
      "dense_1 (Dense)              (None, 32)                1056      \n",
      "_________________________________________________________________\n",
      "dropout_1 (Dropout)          (None, 32)                0         \n",
      "_________________________________________________________________\n",
      "dense_2 (Dense)              (None, 3)                 99        \n",
      "=================================================================\n",
      "Total params: 6,318,687\n",
      "Trainable params: 34,587\n",
      "Non-trainable params: 6,284,100\n",
      "_________________________________________________________________\n",
      "Epoch 1/10\n",
      "92/92 [==============================] - 38s 400ms/step - loss: 0.9770 - accuracy: 0.5240 - val_loss: 0.7524 - val_accuracy: 0.6885\n",
      "Epoch 2/10\n",
      "92/92 [==============================] - 35s 386ms/step - loss: 0.7543 - accuracy: 0.6970 - val_loss: 0.6705 - val_accuracy: 0.7237\n",
      "Epoch 3/10\n",
      "92/92 [==============================] - 36s 393ms/step - loss: 0.6514 - accuracy: 0.7449 - val_loss: 0.6584 - val_accuracy: 0.7321\n",
      "Epoch 4/10\n",
      "92/92 [==============================] - 36s 395ms/step - loss: 0.5739 - accuracy: 0.7833 - val_loss: 0.6465 - val_accuracy: 0.7469\n",
      "Epoch 5/10\n",
      "92/92 [==============================] - 37s 400ms/step - loss: 0.5231 - accuracy: 0.8033 - val_loss: 0.6694 - val_accuracy: 0.7388\n",
      "Epoch 6/10\n",
      "92/92 [==============================] - 36s 389ms/step - loss: 0.4757 - accuracy: 0.8264 - val_loss: 0.6636 - val_accuracy: 0.7403\n",
      "Epoch 7/10\n",
      "92/92 [==============================] - 36s 394ms/step - loss: 0.4458 - accuracy: 0.8373 - val_loss: 0.7106 - val_accuracy: 0.7464\n",
      "Epoch 8/10\n",
      "92/92 [==============================] - 36s 389ms/step - loss: 0.4092 - accuracy: 0.8544 - val_loss: 0.7623 - val_accuracy: 0.7388\n",
      "Epoch 9/10\n",
      "92/92 [==============================] - 37s 404ms/step - loss: 0.3997 - accuracy: 0.8610 - val_loss: 0.7423 - val_accuracy: 0.7477\n",
      "Epoch 10/10\n",
      "92/92 [==============================] - 35s 383ms/step - loss: 0.3683 - accuracy: 0.8713 - val_loss: 0.7654 - val_accuracy: 0.7492\n",
      "245/245 [==============================] - 29s 119ms/step - loss: 0.7793 - accuracy: 0.7430\n",
      "CPU times: user 6min 37s, sys: 3.93 s, total: 6min 41s\n",
      "Wall time: 7min 4s\n"
     ]
    }
   ],
   "source": [
    "%%time\n",
    "tf.keras.backend.clear_session()\n",
    "\n",
    "model = create_pretrain_LSTM()\n",
    "\n",
    "model.summary()\n",
    "\n",
    "history = model.fit(X_train,\n",
    "                    y_train,\n",
    "                    validation_data = (X_val, y_val),\n",
    "                    epochs = 10,\n",
    "                    batch_size = 128)\n",
    "\n",
    "pretrained_score = model.evaluate(X_test, y_test)\n",
    "\n"
   ]
  },
  {
   "cell_type": "code",
   "execution_count": 61,
   "id": "kXAUhl0y4wBt",
   "metadata": {
    "colab": {
     "base_uri": "https://localhost:8080/",
     "height": 440
    },
    "id": "kXAUhl0y4wBt",
    "outputId": "cca2a6e0-7fdb-4d17-a22c-9e1515d37efb"
   },
   "outputs": [
    {
     "data": {
      "image/png": "[encoded data removed]",
      "text/plain": [
       "<Figure size 720x360 with 2 Axes>"
      ]
     },
     "metadata": {
      "needs_background": "light",
      "tags": []
     },
     "output_type": "display_data"
    },
    {
     "name": "stdout",
     "output_type": "stream",
     "text": [
      "final loss: 0.3682979345321655\n",
      "final val_loss: 0.7653667330741882\n",
      "final accuracy: 0.8712862730026245\n",
      "final val_accuracy: 0.7492339015007019\n",
      "Accuracy of Self-trained Embedding model:  [0.824516773223877, 0.7814096212387085]\n",
      "Accuracy of Pretrained Embedding model:  [0.7792548537254333, 0.742977499961853]\n"
     ]
    }
   ],
   "source": [
    "\n",
    "plot_history(history)\n",
    "print(f'Accuracy of Self-trained Embedding model: {self_trained_score[1]}, Loss: {self_trained_score[0]}')\n",
    "print(f'Accuracy of Pretrained Embedding model: {pretrained_score[1]}, Loss: {pretrained_score[0]}')"
   ]
  },
  {
   "cell_type": "markdown",
   "id": "DEfzz-qitaBw",
   "metadata": {
    "id": "DEfzz-qitaBw"
   },
   "source": [
    "# Conclusion\n",
    "\n",
    "In this lesson you learned about recurrent neural networks, or RNNs, how to implement them in Keras, and how to use transfer learning to improve a natural language processing modeling task.\n",
    "\n",
    "I hope you feel comfortable and confident to use these powerful tools in your own work.\n",
    "\n",
    "# References:\n",
    "\n",
    "[Pretrained Word Embeddings using SpaCy and Keras TextVectorization](https://towardsdatascience.com/pretrained-word-embeddings-using-spacy-and-keras-textvectorization-ef75ecd56360)\n",
    "\n",
    "[Multi-Class Text Classification with LSTM](https://towardsdatascience.com/multi-class-text-classification-with-lstm-1590bee1bd17)"
   ]
  }
 ],
 "metadata": {
  "accelerator": "GPU",
  "colab": {
   "collapsed_sections": [],
   "name": "RNNs and Word Embeddings.ipynb",
   "provenance": []
  },
  "kernelspec": {
   "display_name": "Python 3",
   "language": "python",
   "name": "python3"
  },
  "language_info": {
   "codemirror_mode": {
    "name": "ipython",
    "version": 3
   },
   "file_extension": ".py",
   "mimetype": "text/x-python",
   "name": "python",
   "nbconvert_exporter": "python",
   "pygments_lexer": "ipython3",
   "version": "3.8.8"
  }
 },
 "nbformat": 4,
 "nbformat_minor": 5
}
